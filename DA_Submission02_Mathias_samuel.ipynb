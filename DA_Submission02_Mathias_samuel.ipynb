{
 "cells": [
  {
   "cell_type": "markdown",
   "id": "4d64ed16-8133-4c00-86f0-ff7b694cad71",
   "metadata": {},
   "source": [
    "# Forecast Model\n",
    "\n",
    "### Using Rolling Mean and Lag(delay)/shift techniques"
   ]
  },
  {
   "cell_type": "markdown",
   "id": "4da98bb8-208c-4d11-81ca-954a01fff268",
   "metadata": {},
   "source": [
    "Big Pharma is a large pharmaceutical distribution company in Germany. They restock their\n",
    "warehouses monthly but have been running into issues with overstocking and under-stocking\n",
    "products. You were employed as a data scientist to help find a solution to this problem. The sales\n",
    "team has provided you with data to get started on implementing your solution.\n",
    "\n",
    "\n",
    "**GOAL**\n",
    "<hr>\n",
    "the goal for this project is to build a model to forecast a month of big pharma's Stock Demand using previous records to optimize Inventory overstocking and under-stocking."
   ]
  },
  {
   "cell_type": "code",
   "execution_count": 1,
   "id": "17dfbe33-43a4-46d1-94b8-68abe24cf28f",
   "metadata": {},
   "outputs": [],
   "source": [
    "# import libraries\n",
    "import pandas as pd \n",
    "import datetime\n",
    "import numpy as np\n",
    "np.random.seed(42)\n",
    "from sklearn.model_selection import train_test_split\n",
    "import matplotlib.pyplot as plt\n",
    "import seaborn as sns\n",
    "from sklearn.metrics import r2_score, mean_absolute_error, mean_squared_error,mean_absolute_percentage_error # metrics"
   ]
  },
  {
   "cell_type": "markdown",
   "id": "5ba8330a-f334-4e9e-a940-bc20719bb193",
   "metadata": {},
   "source": [
    "load the excel data"
   ]
  },
  {
   "cell_type": "code",
   "execution_count": 2,
   "id": "c83696dc-faf3-4ed5-bf41-75bf5c3ecb67",
   "metadata": {},
   "outputs": [],
   "source": [
    "# load the data \n",
    "df = pd.read_excel('pharmaceutical-sales-demand.xlsx',date_parser=['Date'])"
   ]
  },
  {
   "cell_type": "code",
   "execution_count": 3,
   "id": "d09b5ab4-acbc-4390-8de4-736df62cfeb5",
   "metadata": {},
   "outputs": [
    {
     "data": {
      "text/html": [
       "<div>\n",
       "<style scoped>\n",
       "    .dataframe tbody tr th:only-of-type {\n",
       "        vertical-align: middle;\n",
       "    }\n",
       "\n",
       "    .dataframe tbody tr th {\n",
       "        vertical-align: top;\n",
       "    }\n",
       "\n",
       "    .dataframe thead th {\n",
       "        text-align: right;\n",
       "    }\n",
       "</style>\n",
       "<table border=\"1\" class=\"dataframe\">\n",
       "  <thead>\n",
       "    <tr style=\"text-align: right;\">\n",
       "      <th></th>\n",
       "      <th>Date</th>\n",
       "      <th>Product ID</th>\n",
       "      <th>Stock Demand</th>\n",
       "    </tr>\n",
       "  </thead>\n",
       "  <tbody>\n",
       "    <tr>\n",
       "      <th>0</th>\n",
       "      <td>2020-10-05</td>\n",
       "      <td>I6DO4</td>\n",
       "      <td>-1</td>\n",
       "    </tr>\n",
       "    <tr>\n",
       "      <th>1</th>\n",
       "      <td>2020-10-05</td>\n",
       "      <td>O40SR</td>\n",
       "      <td>16</td>\n",
       "    </tr>\n",
       "    <tr>\n",
       "      <th>2</th>\n",
       "      <td>2020-10-19</td>\n",
       "      <td>Y03MS</td>\n",
       "      <td>306</td>\n",
       "    </tr>\n",
       "    <tr>\n",
       "      <th>3</th>\n",
       "      <td>2020-10-08</td>\n",
       "      <td>B0OR2</td>\n",
       "      <td>307</td>\n",
       "    </tr>\n",
       "    <tr>\n",
       "      <th>4</th>\n",
       "      <td>2020-10-02</td>\n",
       "      <td>EIM03</td>\n",
       "      <td>6</td>\n",
       "    </tr>\n",
       "  </tbody>\n",
       "</table>\n",
       "</div>"
      ],
      "text/plain": [
       "        Date Product ID  Stock Demand\n",
       "0 2020-10-05      I6DO4            -1\n",
       "1 2020-10-05      O40SR            16\n",
       "2 2020-10-19      Y03MS           306\n",
       "3 2020-10-08      B0OR2           307\n",
       "4 2020-10-02      EIM03             6"
      ]
     },
     "execution_count": 3,
     "metadata": {},
     "output_type": "execute_result"
    }
   ],
   "source": [
    "# preview data\n",
    "df.head()"
   ]
  },
  {
   "cell_type": "markdown",
   "id": "7f606b48-4f54-4d40-9e03-5a933a97cfea",
   "metadata": {
    "jp-MarkdownHeadingCollapsed": true,
    "tags": []
   },
   "source": [
    "get the general information of the data"
   ]
  },
  {
   "cell_type": "code",
   "execution_count": 4,
   "id": "e176e1d4-df72-4598-9f2c-4379dc0a1e24",
   "metadata": {},
   "outputs": [
    {
     "name": "stdout",
     "output_type": "stream",
     "text": [
      "<class 'pandas.core.frame.DataFrame'>\n",
      "RangeIndex: 1048575 entries, 0 to 1048574\n",
      "Data columns (total 3 columns):\n",
      " #   Column        Non-Null Count    Dtype         \n",
      "---  ------        --------------    -----         \n",
      " 0   Date          1048575 non-null  datetime64[ns]\n",
      " 1   Product ID    1048575 non-null  object        \n",
      " 2   Stock Demand  1048575 non-null  int64         \n",
      "dtypes: datetime64[ns](1), int64(1), object(1)\n",
      "memory usage: 24.0+ MB\n"
     ]
    }
   ],
   "source": [
    "df.info()\n",
    "# from the information below we can see that we have over a million plus records"
   ]
  },
  {
   "cell_type": "markdown",
   "id": "584c4d60-22bd-4917-ae5e-f2ac365115c1",
   "metadata": {},
   "source": [
    "have a look on general statistics on this data "
   ]
  },
  {
   "cell_type": "code",
   "execution_count": 5,
   "id": "47da5929-79ed-4410-91ef-18991ae421d6",
   "metadata": {},
   "outputs": [
    {
     "data": {
      "text/html": [
       "<div>\n",
       "<style scoped>\n",
       "    .dataframe tbody tr th:only-of-type {\n",
       "        vertical-align: middle;\n",
       "    }\n",
       "\n",
       "    .dataframe tbody tr th {\n",
       "        vertical-align: top;\n",
       "    }\n",
       "\n",
       "    .dataframe thead th {\n",
       "        text-align: right;\n",
       "    }\n",
       "</style>\n",
       "<table border=\"1\" class=\"dataframe\">\n",
       "  <thead>\n",
       "    <tr style=\"text-align: right;\">\n",
       "      <th></th>\n",
       "      <th>count</th>\n",
       "      <th>mean</th>\n",
       "      <th>std</th>\n",
       "      <th>min</th>\n",
       "      <th>25%</th>\n",
       "      <th>50%</th>\n",
       "      <th>75%</th>\n",
       "      <th>max</th>\n",
       "    </tr>\n",
       "  </thead>\n",
       "  <tbody>\n",
       "    <tr>\n",
       "      <th>Stock Demand</th>\n",
       "      <td>1048575.0</td>\n",
       "      <td>79.705856</td>\n",
       "      <td>610.023009</td>\n",
       "      <td>-12226.0</td>\n",
       "      <td>3.0</td>\n",
       "      <td>9.0</td>\n",
       "      <td>31.0</td>\n",
       "      <td>149004.0</td>\n",
       "    </tr>\n",
       "  </tbody>\n",
       "</table>\n",
       "</div>"
      ],
      "text/plain": [
       "                  count       mean         std      min  25%  50%   75%  \\\n",
       "Stock Demand  1048575.0  79.705856  610.023009 -12226.0  3.0  9.0  31.0   \n",
       "\n",
       "                   max  \n",
       "Stock Demand  149004.0  "
      ]
     },
     "execution_count": 5,
     "metadata": {},
     "output_type": "execute_result"
    }
   ],
   "source": [
    "df.describe().T"
   ]
  },
  {
   "cell_type": "markdown",
   "id": "23d091da-ba20-49c9-a007-304b846c3ee9",
   "metadata": {},
   "source": [
    "**from this statistics 75% of the Stock Demanded in Big Pharma lies below 31 units and max over 149,000.\n",
    "this appears to be a major outlier. we will fix that in our feature engineering stage**"
   ]
  },
  {
   "cell_type": "code",
   "execution_count": 6,
   "id": "d08b46d7-d362-4027-86a8-8d6f39541743",
   "metadata": {},
   "outputs": [
    {
     "name": "stdout",
     "output_type": "stream",
     "text": [
      "the maximum Stock Demand ever requested in the Big Pharma Data span is: Stock Demand    149004.0\n",
      "Name: max, dtype: float64\n",
      "the minimum Stock Demand Date of this data is: 2020-10-01 00:00:00\n",
      "the maximum Stock Demand Date of this data is: 2021-07-31 00:00:00\n"
     ]
    }
   ],
   "source": [
    "print(f\"the maximum Stock Demand ever requested in the Big Pharma Data span is: {df.describe().T['max']}\")\n",
    "\n",
    "print(f\"the minimum Stock Demand Date of this data is: {df.Date.min()}\")\n",
    "\n",
    "print(f\"the maximum Stock Demand Date of this data is: {df.Date.max()}\")"
   ]
  },
  {
   "cell_type": "code",
   "execution_count": 7,
   "id": "a2575120-0b9d-412f-bfa5-2236175eebc4",
   "metadata": {},
   "outputs": [
    {
     "data": {
      "text/html": [
       "<div>\n",
       "<style scoped>\n",
       "    .dataframe tbody tr th:only-of-type {\n",
       "        vertical-align: middle;\n",
       "    }\n",
       "\n",
       "    .dataframe tbody tr th {\n",
       "        vertical-align: top;\n",
       "    }\n",
       "\n",
       "    .dataframe thead th {\n",
       "        text-align: right;\n",
       "    }\n",
       "</style>\n",
       "<table border=\"1\" class=\"dataframe\">\n",
       "  <thead>\n",
       "    <tr style=\"text-align: right;\">\n",
       "      <th></th>\n",
       "      <th>Date</th>\n",
       "      <th>Product ID</th>\n",
       "      <th>Stock Demand</th>\n",
       "    </tr>\n",
       "  </thead>\n",
       "  <tbody>\n",
       "    <tr>\n",
       "      <th>781974</th>\n",
       "      <td>2021-05-04</td>\n",
       "      <td>S0E3P</td>\n",
       "      <td>10</td>\n",
       "    </tr>\n",
       "    <tr>\n",
       "      <th>937737</th>\n",
       "      <td>2021-06-22</td>\n",
       "      <td>2MOL0</td>\n",
       "      <td>1</td>\n",
       "    </tr>\n",
       "    <tr>\n",
       "      <th>907828</th>\n",
       "      <td>2021-06-18</td>\n",
       "      <td>I395R</td>\n",
       "      <td>3</td>\n",
       "    </tr>\n",
       "    <tr>\n",
       "      <th>784628</th>\n",
       "      <td>2021-05-24</td>\n",
       "      <td>070RI</td>\n",
       "      <td>9</td>\n",
       "    </tr>\n",
       "    <tr>\n",
       "      <th>662460</th>\n",
       "      <td>2021-03-10</td>\n",
       "      <td>NL0X1</td>\n",
       "      <td>453</td>\n",
       "    </tr>\n",
       "    <tr>\n",
       "      <th>280139</th>\n",
       "      <td>2020-12-26</td>\n",
       "      <td>EB30K</td>\n",
       "      <td>1</td>\n",
       "    </tr>\n",
       "    <tr>\n",
       "      <th>355572</th>\n",
       "      <td>2021-01-06</td>\n",
       "      <td>TN552</td>\n",
       "      <td>3</td>\n",
       "    </tr>\n",
       "    <tr>\n",
       "      <th>749979</th>\n",
       "      <td>2021-04-14</td>\n",
       "      <td>U01OR</td>\n",
       "      <td>4</td>\n",
       "    </tr>\n",
       "    <tr>\n",
       "      <th>374753</th>\n",
       "      <td>2021-01-13</td>\n",
       "      <td>E0TN3</td>\n",
       "      <td>5</td>\n",
       "    </tr>\n",
       "    <tr>\n",
       "      <th>17327</th>\n",
       "      <td>2020-10-05</td>\n",
       "      <td>NA30B</td>\n",
       "      <td>460</td>\n",
       "    </tr>\n",
       "  </tbody>\n",
       "</table>\n",
       "</div>"
      ],
      "text/plain": [
       "             Date Product ID  Stock Demand\n",
       "781974 2021-05-04      S0E3P            10\n",
       "937737 2021-06-22      2MOL0             1\n",
       "907828 2021-06-18      I395R             3\n",
       "784628 2021-05-24      070RI             9\n",
       "662460 2021-03-10      NL0X1           453\n",
       "280139 2020-12-26      EB30K             1\n",
       "355572 2021-01-06      TN552             3\n",
       "749979 2021-04-14      U01OR             4\n",
       "374753 2021-01-13      E0TN3             5\n",
       "17327  2020-10-05      NA30B           460"
      ]
     },
     "execution_count": 7,
     "metadata": {},
     "output_type": "execute_result"
    }
   ],
   "source": [
    "df.sample(10)"
   ]
  },
  {
   "cell_type": "markdown",
   "id": "0cf95755-f11d-4eda-805a-d5bb883eb6fb",
   "metadata": {},
   "source": [
    "## Exploratory Data Analysis"
   ]
  },
  {
   "cell_type": "code",
   "execution_count": 8,
   "id": "9a84e0cd-e8fd-4c81-a176-e19e4518585d",
   "metadata": {},
   "outputs": [
    {
     "data": {
      "text/plain": [
       "<Figure size 576x432 with 0 Axes>"
      ]
     },
     "metadata": {},
     "output_type": "display_data"
    },
    {
     "data": {
      "image/png": "[encoded data removed]",
      "text/plain": [
       "<Figure size 360x360 with 1 Axes>"
      ]
     },
     "metadata": {
      "needs_background": "light"
     },
     "output_type": "display_data"
    }
   ],
   "source": [
    "plt.figure(figsize=(8,6))\n",
    "sns.displot(df['Stock Demand'].sample(2000), bins=40);\n",
    "# seaborn will not be able to handle plotting the whole data but let's view some of it."
   ]
  },
  {
   "cell_type": "markdown",
   "id": "54c5b8b4-2c5b-429d-9abe-1fde9a73e2bf",
   "metadata": {},
   "source": [
    "from the distribution plot above we can see that most of it's values are farther away from each other\n",
    "in our statistics plot below we see that 50% of the values lie below 3"
   ]
  },
  {
   "cell_type": "code",
   "execution_count": 9,
   "id": "459cdd22-a06b-422a-b61c-2e1c904e93d3",
   "metadata": {},
   "outputs": [
    {
     "data": {
      "text/html": [
       "<div>\n",
       "<style scoped>\n",
       "    .dataframe tbody tr th:only-of-type {\n",
       "        vertical-align: middle;\n",
       "    }\n",
       "\n",
       "    .dataframe tbody tr th {\n",
       "        vertical-align: top;\n",
       "    }\n",
       "\n",
       "    .dataframe thead th {\n",
       "        text-align: right;\n",
       "    }\n",
       "</style>\n",
       "<table border=\"1\" class=\"dataframe\">\n",
       "  <thead>\n",
       "    <tr style=\"text-align: right;\">\n",
       "      <th></th>\n",
       "      <th>count</th>\n",
       "      <th>mean</th>\n",
       "      <th>std</th>\n",
       "      <th>min</th>\n",
       "      <th>25%</th>\n",
       "      <th>50%</th>\n",
       "      <th>75%</th>\n",
       "      <th>max</th>\n",
       "    </tr>\n",
       "  </thead>\n",
       "  <tbody>\n",
       "    <tr>\n",
       "      <th>Stock Demand</th>\n",
       "      <td>1048575.0</td>\n",
       "      <td>79.705856</td>\n",
       "      <td>610.023009</td>\n",
       "      <td>-12226.0</td>\n",
       "      <td>3.0</td>\n",
       "      <td>9.0</td>\n",
       "      <td>31.0</td>\n",
       "      <td>149004.0</td>\n",
       "    </tr>\n",
       "  </tbody>\n",
       "</table>\n",
       "</div>"
      ],
      "text/plain": [
       "                  count       mean         std      min  25%  50%   75%  \\\n",
       "Stock Demand  1048575.0  79.705856  610.023009 -12226.0  3.0  9.0  31.0   \n",
       "\n",
       "                   max  \n",
       "Stock Demand  149004.0  "
      ]
     },
     "execution_count": 9,
     "metadata": {},
     "output_type": "execute_result"
    }
   ],
   "source": [
    "df.describe().T"
   ]
  },
  {
   "cell_type": "code",
   "execution_count": 10,
   "id": "3f9a39e7-91b0-4215-984d-aae41023d10c",
   "metadata": {},
   "outputs": [
    {
     "data": {
      "image/png": "[encoded data removed]",
      "text/plain": [
       "<Figure size 864x360 with 1 Axes>"
      ]
     },
     "metadata": {
      "needs_background": "light"
     },
     "output_type": "display_data"
    }
   ],
   "source": [
    "df['Product ID'].value_counts()[:30].plot(kind='bar', figsize=(12,5))\n",
    "plt.ylabel('Days records')\n",
    "plt.xlabel('Product')\n",
    "plt.title(\"Plot showing the count of top 30 products\");"
   ]
  },
  {
   "cell_type": "markdown",
   "id": "1e080e53-1b53-48e5-821a-50e7068c24e7",
   "metadata": {},
   "source": [
    "let's have a sneak peak on one of the products"
   ]
  },
  {
   "cell_type": "code",
   "execution_count": 11,
   "id": "d49b0364-15f3-4fc1-acdd-06c76f30abc9",
   "metadata": {},
   "outputs": [
    {
     "data": {
      "text/html": [
       "<div>\n",
       "<style scoped>\n",
       "    .dataframe tbody tr th:only-of-type {\n",
       "        vertical-align: middle;\n",
       "    }\n",
       "\n",
       "    .dataframe tbody tr th {\n",
       "        vertical-align: top;\n",
       "    }\n",
       "\n",
       "    .dataframe thead th {\n",
       "        text-align: right;\n",
       "    }\n",
       "</style>\n",
       "<table border=\"1\" class=\"dataframe\">\n",
       "  <thead>\n",
       "    <tr style=\"text-align: right;\">\n",
       "      <th></th>\n",
       "      <th>Date</th>\n",
       "      <th>Product ID</th>\n",
       "      <th>Stock Demand</th>\n",
       "    </tr>\n",
       "  </thead>\n",
       "  <tbody>\n",
       "    <tr>\n",
       "      <th>644</th>\n",
       "      <td>2020-10-12</td>\n",
       "      <td>N0SI1</td>\n",
       "      <td>16</td>\n",
       "    </tr>\n",
       "    <tr>\n",
       "      <th>1732</th>\n",
       "      <td>2020-10-27</td>\n",
       "      <td>N0SI1</td>\n",
       "      <td>2</td>\n",
       "    </tr>\n",
       "    <tr>\n",
       "      <th>1779</th>\n",
       "      <td>2020-10-14</td>\n",
       "      <td>N0SI1</td>\n",
       "      <td>81</td>\n",
       "    </tr>\n",
       "    <tr>\n",
       "      <th>4018</th>\n",
       "      <td>2020-10-26</td>\n",
       "      <td>N0SI1</td>\n",
       "      <td>29</td>\n",
       "    </tr>\n",
       "    <tr>\n",
       "      <th>4102</th>\n",
       "      <td>2020-10-10</td>\n",
       "      <td>N0SI1</td>\n",
       "      <td>4</td>\n",
       "    </tr>\n",
       "    <tr>\n",
       "      <th>...</th>\n",
       "      <td>...</td>\n",
       "      <td>...</td>\n",
       "      <td>...</td>\n",
       "    </tr>\n",
       "    <tr>\n",
       "      <th>1043673</th>\n",
       "      <td>2021-07-14</td>\n",
       "      <td>N0SI1</td>\n",
       "      <td>1</td>\n",
       "    </tr>\n",
       "    <tr>\n",
       "      <th>1044032</th>\n",
       "      <td>2021-07-22</td>\n",
       "      <td>N0SI1</td>\n",
       "      <td>53</td>\n",
       "    </tr>\n",
       "    <tr>\n",
       "      <th>1045948</th>\n",
       "      <td>2021-07-12</td>\n",
       "      <td>N0SI1</td>\n",
       "      <td>1</td>\n",
       "    </tr>\n",
       "    <tr>\n",
       "      <th>1046314</th>\n",
       "      <td>2021-07-10</td>\n",
       "      <td>N0SI1</td>\n",
       "      <td>1</td>\n",
       "    </tr>\n",
       "    <tr>\n",
       "      <th>1046375</th>\n",
       "      <td>2021-07-19</td>\n",
       "      <td>N0SI1</td>\n",
       "      <td>4</td>\n",
       "    </tr>\n",
       "  </tbody>\n",
       "</table>\n",
       "<p>1482 rows × 3 columns</p>\n",
       "</div>"
      ],
      "text/plain": [
       "              Date Product ID  Stock Demand\n",
       "644     2020-10-12      N0SI1            16\n",
       "1732    2020-10-27      N0SI1             2\n",
       "1779    2020-10-14      N0SI1            81\n",
       "4018    2020-10-26      N0SI1            29\n",
       "4102    2020-10-10      N0SI1             4\n",
       "...            ...        ...           ...\n",
       "1043673 2021-07-14      N0SI1             1\n",
       "1044032 2021-07-22      N0SI1            53\n",
       "1045948 2021-07-12      N0SI1             1\n",
       "1046314 2021-07-10      N0SI1             1\n",
       "1046375 2021-07-19      N0SI1             4\n",
       "\n",
       "[1482 rows x 3 columns]"
      ]
     },
     "execution_count": 11,
     "metadata": {},
     "output_type": "execute_result"
    }
   ],
   "source": [
    "df[df['Product ID'] == 'N0SI1']"
   ]
  },
  {
   "cell_type": "code",
   "execution_count": 12,
   "id": "6549f941-1000-4a2d-bead-b00107950d84",
   "metadata": {},
   "outputs": [
    {
     "data": {
      "image/png": "[encoded data removed]",
      "text/plain": [
       "<Figure size 360x360 with 1 Axes>"
      ]
     },
     "metadata": {
      "needs_background": "light"
     },
     "output_type": "display_data"
    }
   ],
   "source": [
    "sns.displot(df[df['Product ID'] == 'N0SI1']['Stock Demand'],bins=30);"
   ]
  },
  {
   "cell_type": "markdown",
   "id": "1eed235b-3e3a-47f8-b0f4-5b150d0db075",
   "metadata": {},
   "source": [
    "the stock demands for products **N0SI1** shows demands were mostly less than 500, at times there was spike in this products demand of up to 1500."
   ]
  },
  {
   "cell_type": "markdown",
   "id": "ed5b085d-4d8a-45d3-918c-ac341c30728f",
   "metadata": {},
   "source": [
    "## Feature Engineering"
   ]
  },
  {
   "cell_type": "markdown",
   "id": "99d73f4c-6294-41fe-84ca-bdf02efd4ea7",
   "metadata": {},
   "source": [
    "**Let us group the the products and dates by thier stock demand sum so we can have a unique day for the various products demands.**"
   ]
  },
  {
   "cell_type": "code",
   "execution_count": 13,
   "id": "135944b3-df98-4a6f-b36f-053638b12586",
   "metadata": {},
   "outputs": [
    {
     "name": "stdout",
     "output_type": "stream",
     "text": [
      "1048575  before grouping.\n"
     ]
    }
   ],
   "source": [
    "print(len(df), \" before grouping.\")"
   ]
  },
  {
   "cell_type": "code",
   "execution_count": 14,
   "id": "355f904b-a00a-4623-84c3-7b355385deed",
   "metadata": {},
   "outputs": [],
   "source": [
    "df = df.groupby(['Date','Product ID']).sum().reset_index()"
   ]
  },
  {
   "cell_type": "code",
   "execution_count": 15,
   "id": "fcaa3782-a065-4e5c-ab6c-6a2e8dd4368d",
   "metadata": {},
   "outputs": [
    {
     "name": "stdout",
     "output_type": "stream",
     "text": [
      "874811  after grouping.\n"
     ]
    }
   ],
   "source": [
    "print(len(df), \" after grouping.\")"
   ]
  },
  {
   "cell_type": "markdown",
   "id": "f4393a4d-0136-44c2-a0eb-fc5d70e4cf13",
   "metadata": {},
   "source": [
    "the data has reduced in size, so we have an unique day stocks demand for each product"
   ]
  },
  {
   "cell_type": "code",
   "execution_count": 16,
   "id": "00649940-5083-47a0-8231-eb02e60a3357",
   "metadata": {},
   "outputs": [
    {
     "data": {
      "text/html": [
       "<div>\n",
       "<style scoped>\n",
       "    .dataframe tbody tr th:only-of-type {\n",
       "        vertical-align: middle;\n",
       "    }\n",
       "\n",
       "    .dataframe tbody tr th {\n",
       "        vertical-align: top;\n",
       "    }\n",
       "\n",
       "    .dataframe thead th {\n",
       "        text-align: right;\n",
       "    }\n",
       "</style>\n",
       "<table border=\"1\" class=\"dataframe\">\n",
       "  <thead>\n",
       "    <tr style=\"text-align: right;\">\n",
       "      <th></th>\n",
       "      <th>Date</th>\n",
       "      <th>Product ID</th>\n",
       "      <th>Stock Demand</th>\n",
       "    </tr>\n",
       "  </thead>\n",
       "  <tbody>\n",
       "    <tr>\n",
       "      <th>185</th>\n",
       "      <td>2020-10-01</td>\n",
       "      <td>0AML4</td>\n",
       "      <td>-54</td>\n",
       "    </tr>\n",
       "    <tr>\n",
       "      <th>186</th>\n",
       "      <td>2020-10-01</td>\n",
       "      <td>0AP5R</td>\n",
       "      <td>-1</td>\n",
       "    </tr>\n",
       "    <tr>\n",
       "      <th>304</th>\n",
       "      <td>2020-10-01</td>\n",
       "      <td>0FL2U</td>\n",
       "      <td>-7</td>\n",
       "    </tr>\n",
       "    <tr>\n",
       "      <th>515</th>\n",
       "      <td>2020-10-01</td>\n",
       "      <td>0RL1E</td>\n",
       "      <td>-4</td>\n",
       "    </tr>\n",
       "    <tr>\n",
       "      <th>553</th>\n",
       "      <td>2020-10-01</td>\n",
       "      <td>0TEN4</td>\n",
       "      <td>-4</td>\n",
       "    </tr>\n",
       "  </tbody>\n",
       "</table>\n",
       "</div>"
      ],
      "text/plain": [
       "          Date Product ID  Stock Demand\n",
       "185 2020-10-01      0AML4           -54\n",
       "186 2020-10-01      0AP5R            -1\n",
       "304 2020-10-01      0FL2U            -7\n",
       "515 2020-10-01      0RL1E            -4\n",
       "553 2020-10-01      0TEN4            -4"
      ]
     },
     "execution_count": 16,
     "metadata": {},
     "output_type": "execute_result"
    }
   ],
   "source": [
    "df[df['Stock Demand'] < 0 ].head()"
   ]
  },
  {
   "cell_type": "code",
   "execution_count": 17,
   "id": "1a281805-0761-4210-9ee2-ee055936288c",
   "metadata": {},
   "outputs": [
    {
     "name": "stdout",
     "output_type": "stream",
     "text": [
      "number of stocks with less than or 0 values  5334\n"
     ]
    }
   ],
   "source": [
    "print(\"number of stocks with less than or 0 values \",len(df[df['Stock Demand'] <0 ]))"
   ]
  },
  {
   "cell_type": "markdown",
   "id": "47291ff1-799c-4412-a29b-a4cbbcc7f336",
   "metadata": {},
   "source": [
    "**some stocks appear to have zero values; since we do not know why these stocks have zero values we have to drop them as to avoid affect our model because we are predicting stock demand and demand cannot be negative**"
   ]
  },
  {
   "cell_type": "code",
   "execution_count": 18,
   "id": "030fcdb2-730f-4de9-b2af-0b8f262e43c9",
   "metadata": {},
   "outputs": [],
   "source": [
    "df = df[df['Stock Demand'] > 0 ]"
   ]
  },
  {
   "cell_type": "markdown",
   "id": "95952add-7750-4256-96e8-05905a4dc609",
   "metadata": {},
   "source": [
    "**there are lot's of outliers in our model, building the model with these large shooting outliers would distort our model and make it harder for thr model to learn**"
   ]
  },
  {
   "cell_type": "code",
   "execution_count": 19,
   "id": "336e2ec4-e8c5-4946-9e4c-4c678a3bdcda",
   "metadata": {},
   "outputs": [
    {
     "data": {
      "text/plain": [
       "year  month\n",
       "2020  10       18566\n",
       "      11       17237\n",
       "      12       17083\n",
       "2021  1         5475\n",
       "      2         3420\n",
       "      3        15253\n",
       "      4         3721\n",
       "      5         1540\n",
       "      6          301\n",
       "      7          535\n",
       "Name: Stock Demand, dtype: int64"
      ]
     },
     "execution_count": 19,
     "metadata": {},
     "output_type": "execute_result"
    }
   ],
   "source": [
    "CDI  = df[df['Product ID']== 'ZC25D'].copy()\n",
    "CDI['month'] = CDI['Date'].dt.month\n",
    "CDI['year'] = CDI['Date'].dt.year\n",
    "CDI.groupby(['year','month'])['Stock Demand'].sum()"
   ]
  },
  {
   "cell_type": "code",
   "execution_count": 20,
   "id": "d0cf148e-9c97-473b-a923-0714d2a214f6",
   "metadata": {},
   "outputs": [],
   "source": [
    "del CDI"
   ]
  },
  {
   "cell_type": "markdown",
   "id": "5bd083fb-5296-47c0-ac05-603b781cd985",
   "metadata": {},
   "source": [
    "we can see for product **ZC25D** in 2021 month 6 there was a really low demand compared to the history of this product. our model can get confused if it comes out as an outlier but we will try to remove below 5% and above 95% data outliers"
   ]
  },
  {
   "cell_type": "code",
   "execution_count": 21,
   "id": "736e36d5-2568-4ecf-9e90-bcab180f01b8",
   "metadata": {},
   "outputs": [],
   "source": [
    "res = df.groupby(\"Product ID\")[\"Stock Demand\"].transform(lambda x : (x<x.quantile(0.95))&(x>(x.quantile(0.05)))).eq(1)\n",
    "df = df[res]"
   ]
  },
  {
   "cell_type": "markdown",
   "id": "1434d801-b75a-4664-b6f3-e2a29fb11f25",
   "metadata": {},
   "source": [
    "**in predicting a months data we need enough historical data. since the data are measured in days we will use only data with at least 60 days (2month) of history so our model can try to understand the past pattern of the products demand trend.**"
   ]
  },
  {
   "cell_type": "code",
   "execution_count": 22,
   "id": "298a9ca4-4d2a-40f3-bbd7-3be0d6b7cdc7",
   "metadata": {},
   "outputs": [],
   "source": [
    "df['Product ID'] = df['Product ID'].astype(str)\n",
    "df = df.groupby('Product ID').filter(lambda x: len(x) >= 60).copy()"
   ]
  },
  {
   "cell_type": "code",
   "execution_count": 23,
   "id": "b23646ee-8d6b-4cb7-82be-1d9f81c6752f",
   "metadata": {},
   "outputs": [
    {
     "name": "stdout",
     "output_type": "stream",
     "text": [
      "current data size  637286\n"
     ]
    }
   ],
   "source": [
    "print(\"current data size \",len(df))"
   ]
  },
  {
   "cell_type": "code",
   "execution_count": 24,
   "id": "601abe28-1fb9-4e2a-aeaf-13f96b35015f",
   "metadata": {},
   "outputs": [],
   "source": [
    "#sort the data by products and date\n",
    "df.sort_values(['Product ID','Date'], inplace=True)"
   ]
  },
  {
   "cell_type": "markdown",
   "id": "d437b175-badb-40ea-a392-0117faf8ff5f",
   "metadata": {},
   "source": [
    "**We would create new features off the date columns such as the month, year and much more**"
   ]
  },
  {
   "cell_type": "code",
   "execution_count": 25,
   "id": "bf8a2b71-8326-4a0c-822c-03f569eaf50d",
   "metadata": {},
   "outputs": [],
   "source": [
    "def create_date_features(df):\n",
    "    df['month'] = df.Date.dt.month\n",
    "    # month\n",
    "    df['day_of_month'] = df.Date.dt.day\n",
    "    # day of month\n",
    "    df['day_of_year'] = df.Date.dt.dayofyear\n",
    "    # day of year\n",
    "    df['week_of_year'] = df.Date.dt.isocalendar().week.astype(int)\n",
    "    # week of year\n",
    "    df['day_of_week'] = df.Date.dt.dayofweek\n",
    "    # day of week\n",
    "    df['year'] = df.Date.dt.year\n",
    "    # year\n",
    "    df[\"is_wknd\"] = df.Date.dt.weekday // 4\n",
    "    # is weekend\n",
    "    df['is_month_start'] = df.Date.dt.is_month_start.astype(int)\n",
    "    # is month start\n",
    "    df['is_month_end'] = df.Date.dt.is_month_end.astype(int)\n",
    "    # is month end\n",
    "    return df"
   ]
  },
  {
   "cell_type": "code",
   "execution_count": 26,
   "id": "5af3516e-ff53-42a1-ba28-ff07b8b0a9e3",
   "metadata": {},
   "outputs": [
    {
     "data": {
      "text/html": [
       "<div>\n",
       "<style scoped>\n",
       "    .dataframe tbody tr th:only-of-type {\n",
       "        vertical-align: middle;\n",
       "    }\n",
       "\n",
       "    .dataframe tbody tr th {\n",
       "        vertical-align: top;\n",
       "    }\n",
       "\n",
       "    .dataframe thead th {\n",
       "        text-align: right;\n",
       "    }\n",
       "</style>\n",
       "<table border=\"1\" class=\"dataframe\">\n",
       "  <thead>\n",
       "    <tr style=\"text-align: right;\">\n",
       "      <th></th>\n",
       "      <th>Date</th>\n",
       "      <th>Product ID</th>\n",
       "      <th>Stock Demand</th>\n",
       "      <th>month</th>\n",
       "      <th>day_of_month</th>\n",
       "      <th>day_of_year</th>\n",
       "      <th>week_of_year</th>\n",
       "      <th>day_of_week</th>\n",
       "      <th>year</th>\n",
       "      <th>is_wknd</th>\n",
       "      <th>is_month_start</th>\n",
       "      <th>is_month_end</th>\n",
       "    </tr>\n",
       "  </thead>\n",
       "  <tbody>\n",
       "    <tr>\n",
       "      <th>3691</th>\n",
       "      <td>2020-10-02</td>\n",
       "      <td>002R2</td>\n",
       "      <td>3</td>\n",
       "      <td>10</td>\n",
       "      <td>2</td>\n",
       "      <td>276</td>\n",
       "      <td>40</td>\n",
       "      <td>4</td>\n",
       "      <td>2020</td>\n",
       "      <td>1</td>\n",
       "      <td>0</td>\n",
       "      <td>0</td>\n",
       "    </tr>\n",
       "    <tr>\n",
       "      <th>17169</th>\n",
       "      <td>2020-10-07</td>\n",
       "      <td>002R2</td>\n",
       "      <td>20</td>\n",
       "      <td>10</td>\n",
       "      <td>7</td>\n",
       "      <td>281</td>\n",
       "      <td>41</td>\n",
       "      <td>2</td>\n",
       "      <td>2020</td>\n",
       "      <td>0</td>\n",
       "      <td>0</td>\n",
       "      <td>0</td>\n",
       "    </tr>\n",
       "    <tr>\n",
       "      <th>24864</th>\n",
       "      <td>2020-10-09</td>\n",
       "      <td>002R2</td>\n",
       "      <td>4</td>\n",
       "      <td>10</td>\n",
       "      <td>9</td>\n",
       "      <td>283</td>\n",
       "      <td>41</td>\n",
       "      <td>4</td>\n",
       "      <td>2020</td>\n",
       "      <td>1</td>\n",
       "      <td>0</td>\n",
       "      <td>0</td>\n",
       "    </tr>\n",
       "    <tr>\n",
       "      <th>30951</th>\n",
       "      <td>2020-10-12</td>\n",
       "      <td>002R2</td>\n",
       "      <td>18</td>\n",
       "      <td>10</td>\n",
       "      <td>12</td>\n",
       "      <td>286</td>\n",
       "      <td>42</td>\n",
       "      <td>0</td>\n",
       "      <td>2020</td>\n",
       "      <td>0</td>\n",
       "      <td>0</td>\n",
       "      <td>0</td>\n",
       "    </tr>\n",
       "    <tr>\n",
       "      <th>35229</th>\n",
       "      <td>2020-10-13</td>\n",
       "      <td>002R2</td>\n",
       "      <td>3</td>\n",
       "      <td>10</td>\n",
       "      <td>13</td>\n",
       "      <td>287</td>\n",
       "      <td>42</td>\n",
       "      <td>1</td>\n",
       "      <td>2020</td>\n",
       "      <td>0</td>\n",
       "      <td>0</td>\n",
       "      <td>0</td>\n",
       "    </tr>\n",
       "  </tbody>\n",
       "</table>\n",
       "</div>"
      ],
      "text/plain": [
       "            Date Product ID  Stock Demand  month  day_of_month  day_of_year  \\\n",
       "3691  2020-10-02      002R2             3     10             2          276   \n",
       "17169 2020-10-07      002R2            20     10             7          281   \n",
       "24864 2020-10-09      002R2             4     10             9          283   \n",
       "30951 2020-10-12      002R2            18     10            12          286   \n",
       "35229 2020-10-13      002R2             3     10            13          287   \n",
       "\n",
       "       week_of_year  day_of_week  year  is_wknd  is_month_start  is_month_end  \n",
       "3691             40            4  2020        1               0             0  \n",
       "17169            41            2  2020        0               0             0  \n",
       "24864            41            4  2020        1               0             0  \n",
       "30951            42            0  2020        0               0             0  \n",
       "35229            42            1  2020        0               0             0  "
      ]
     },
     "execution_count": 26,
     "metadata": {},
     "output_type": "execute_result"
    }
   ],
   "source": [
    "# we create the features\n",
    "df = create_date_features(df)\n",
    "df.head()"
   ]
  },
  {
   "cell_type": "markdown",
   "id": "a63c1db1-503a-443c-83d7-e23f811ea2a0",
   "metadata": {},
   "source": [
    "**Now we create the rolling features and lag(delay) shifts features.**"
   ]
  },
  {
   "cell_type": "code",
   "execution_count": 27,
   "id": "0e79165f-6709-40a5-8a50-1d57abd30aa9",
   "metadata": {},
   "outputs": [],
   "source": [
    "# the rolling mean feature functuon takes the dataframe and the rolling windows\n",
    "# first it shifts the data by 1 then calcultates the rolling mean for the inputed window\n",
    "\n",
    "def roll_mean_features(dataframe, windows):\n",
    "    for window in windows:\n",
    "        dataframe['stock_D_roll_mean_' + str(window)] = dataframe.groupby([\"Product ID\"])['Stock Demand']. \\\n",
    "                                                          transform(\n",
    "            lambda x: x.shift(1).rolling(window=window, min_periods=2,win_type='triang').mean()) \n",
    "    return dataframe\n",
    "\n",
    "# the random noise function that creates random noise of the data and adds to the roll and lag features\n",
    "def random_noise(dataframe):\n",
    "    return np.random.normal(scale=1.6, size=(len(dataframe),))\n",
    "\n",
    "# the lag features shifts the data by the lag span inputed. it's a delay of the data from its previous records. it also adds random noise\n",
    "# to prevent overfitting\n",
    "def lag_features(dataframe, lags):\n",
    "    for lag in lags:\n",
    "        dataframe['stockD_lag_' + str(lag)] = dataframe.groupby([\"Product ID\"])['Stock Demand'].transform(\n",
    "            lambda x: x.shift(lag)) \n",
    "    return dataframe"
   ]
  },
  {
   "cell_type": "markdown",
   "id": "73e6ed6a-756d-4330-a45e-5b44a5eae7d2",
   "metadata": {},
   "source": [
    "before we pass the data to the rolling and lagg features let's make our stock demand for the test set np.nan so we do not have a data leakage in the training set. later on we will do the main splitting. tho we know where our split begins so we will save the y test values"
   ]
  },
  {
   "cell_type": "code",
   "execution_count": 28,
   "id": "a5288713-f342-4e61-97e9-3549fddd1afe",
   "metadata": {},
   "outputs": [],
   "source": [
    "y_test = df[df.Date >= pd.Timestamp('2021-07-01')]['Stock Demand'].copy() \n",
    "y_test = y_test.values\n",
    "\n",
    "# make the y test set part(stock data) of the main data np.nan so our lag and rolling mean doesnt use the features\n",
    "df.loc[df.Date >= pd.Timestamp('2021-07-01') , 'Stock Demand'] = np.nan"
   ]
  },
  {
   "cell_type": "code",
   "execution_count": 29,
   "id": "5b127679-de02-401a-9bf8-d01a6564db7d",
   "metadata": {},
   "outputs": [],
   "source": [
    "#df.loc[df.Date >= pd.Timestamp('2021-07-01')]['Stock Demand']"
   ]
  },
  {
   "cell_type": "code",
   "execution_count": 30,
   "id": "1d559b94-83e5-48bd-85e5-5037f7fbe9e7",
   "metadata": {},
   "outputs": [],
   "source": [
    "# rolling mean and lag features\n",
    "df = roll_mean_features(df,[2,3,4,15,30])#2,3,4 180\n",
    "df = lag_features(df,[15,21,30,50,60,90])#,90,180"
   ]
  },
  {
   "cell_type": "code",
   "execution_count": 31,
   "id": "4659ff85-5833-4f1c-aeb5-b40104ee456e",
   "metadata": {},
   "outputs": [
    {
     "name": "stdout",
     "output_type": "stream",
     "text": [
      "<class 'pandas.core.frame.DataFrame'>\n",
      "Int64Index: 637286 entries, 3691 to 871021\n",
      "Data columns (total 23 columns):\n",
      " #   Column                Non-Null Count   Dtype         \n",
      "---  ------                --------------   -----         \n",
      " 0   Date                  637286 non-null  datetime64[ns]\n",
      " 1   Product ID            637286 non-null  object        \n",
      " 2   Stock Demand          609499 non-null  float64       \n",
      " 3   month                 637286 non-null  int64         \n",
      " 4   day_of_month          637286 non-null  int64         \n",
      " 5   day_of_year           637286 non-null  int64         \n",
      " 6   week_of_year          637286 non-null  int64         \n",
      " 7   day_of_week           637286 non-null  int64         \n",
      " 8   year                  637286 non-null  int64         \n",
      " 9   is_wknd               637286 non-null  int64         \n",
      " 10  is_month_start        637286 non-null  int64         \n",
      " 11  is_month_end          637286 non-null  int64         \n",
      " 12  stock_D_roll_mean_2   605228 non-null  float64       \n",
      " 13  stock_D_roll_mean_3   609069 non-null  float64       \n",
      " 14  stock_D_roll_mean_4   612663 non-null  float64       \n",
      " 15  stock_D_roll_mean_15  628475 non-null  float64       \n",
      " 16  stock_D_roll_mean_30  629030 non-null  float64       \n",
      " 17  stockD_lag_15         574990 non-null  float64       \n",
      " 18  stockD_lag_21         550583 non-null  float64       \n",
      " 19  stockD_lag_30         513446 non-null  float64       \n",
      " 20  stockD_lag_50         430886 non-null  float64       \n",
      " 21  stockD_lag_60         389606 non-null  float64       \n",
      " 22  stockD_lag_90         276024 non-null  float64       \n",
      "dtypes: datetime64[ns](1), float64(12), int64(9), object(1)\n",
      "memory usage: 116.7+ MB\n"
     ]
    }
   ],
   "source": [
    "# data information after rolling mean and lag features have been added\n",
    "df.info()"
   ]
  },
  {
   "cell_type": "code",
   "execution_count": 32,
   "id": "88da756f-0aed-4913-9e8c-ce63c72a1334",
   "metadata": {},
   "outputs": [
    {
     "data": {
      "text/html": [
       "<div>\n",
       "<style scoped>\n",
       "    .dataframe tbody tr th:only-of-type {\n",
       "        vertical-align: middle;\n",
       "    }\n",
       "\n",
       "    .dataframe tbody tr th {\n",
       "        vertical-align: top;\n",
       "    }\n",
       "\n",
       "    .dataframe thead th {\n",
       "        text-align: right;\n",
       "    }\n",
       "</style>\n",
       "<table border=\"1\" class=\"dataframe\">\n",
       "  <thead>\n",
       "    <tr style=\"text-align: right;\">\n",
       "      <th></th>\n",
       "      <th>Date</th>\n",
       "      <th>Product ID</th>\n",
       "      <th>Stock Demand</th>\n",
       "      <th>month</th>\n",
       "      <th>day_of_month</th>\n",
       "      <th>day_of_year</th>\n",
       "      <th>week_of_year</th>\n",
       "      <th>day_of_week</th>\n",
       "      <th>year</th>\n",
       "      <th>is_wknd</th>\n",
       "      <th>...</th>\n",
       "      <th>stock_D_roll_mean_3</th>\n",
       "      <th>stock_D_roll_mean_4</th>\n",
       "      <th>stock_D_roll_mean_15</th>\n",
       "      <th>stock_D_roll_mean_30</th>\n",
       "      <th>stockD_lag_15</th>\n",
       "      <th>stockD_lag_21</th>\n",
       "      <th>stockD_lag_30</th>\n",
       "      <th>stockD_lag_50</th>\n",
       "      <th>stockD_lag_60</th>\n",
       "      <th>stockD_lag_90</th>\n",
       "    </tr>\n",
       "  </thead>\n",
       "  <tbody>\n",
       "    <tr>\n",
       "      <th>3691</th>\n",
       "      <td>2020-10-02</td>\n",
       "      <td>002R2</td>\n",
       "      <td>3.0</td>\n",
       "      <td>10</td>\n",
       "      <td>2</td>\n",
       "      <td>276</td>\n",
       "      <td>40</td>\n",
       "      <td>4</td>\n",
       "      <td>2020</td>\n",
       "      <td>1</td>\n",
       "      <td>...</td>\n",
       "      <td>NaN</td>\n",
       "      <td>NaN</td>\n",
       "      <td>NaN</td>\n",
       "      <td>NaN</td>\n",
       "      <td>NaN</td>\n",
       "      <td>NaN</td>\n",
       "      <td>NaN</td>\n",
       "      <td>NaN</td>\n",
       "      <td>NaN</td>\n",
       "      <td>NaN</td>\n",
       "    </tr>\n",
       "    <tr>\n",
       "      <th>17169</th>\n",
       "      <td>2020-10-07</td>\n",
       "      <td>002R2</td>\n",
       "      <td>20.0</td>\n",
       "      <td>10</td>\n",
       "      <td>7</td>\n",
       "      <td>281</td>\n",
       "      <td>41</td>\n",
       "      <td>2</td>\n",
       "      <td>2020</td>\n",
       "      <td>0</td>\n",
       "      <td>...</td>\n",
       "      <td>NaN</td>\n",
       "      <td>NaN</td>\n",
       "      <td>NaN</td>\n",
       "      <td>NaN</td>\n",
       "      <td>NaN</td>\n",
       "      <td>NaN</td>\n",
       "      <td>NaN</td>\n",
       "      <td>NaN</td>\n",
       "      <td>NaN</td>\n",
       "      <td>NaN</td>\n",
       "    </tr>\n",
       "    <tr>\n",
       "      <th>24864</th>\n",
       "      <td>2020-10-09</td>\n",
       "      <td>002R2</td>\n",
       "      <td>4.0</td>\n",
       "      <td>10</td>\n",
       "      <td>9</td>\n",
       "      <td>283</td>\n",
       "      <td>41</td>\n",
       "      <td>4</td>\n",
       "      <td>2020</td>\n",
       "      <td>1</td>\n",
       "      <td>...</td>\n",
       "      <td>8.666667</td>\n",
       "      <td>7.250000</td>\n",
       "      <td>8.666667</td>\n",
       "      <td>7.250000</td>\n",
       "      <td>NaN</td>\n",
       "      <td>NaN</td>\n",
       "      <td>NaN</td>\n",
       "      <td>NaN</td>\n",
       "      <td>NaN</td>\n",
       "      <td>NaN</td>\n",
       "    </tr>\n",
       "    <tr>\n",
       "      <th>30951</th>\n",
       "      <td>2020-10-12</td>\n",
       "      <td>002R2</td>\n",
       "      <td>18.0</td>\n",
       "      <td>10</td>\n",
       "      <td>12</td>\n",
       "      <td>286</td>\n",
       "      <td>42</td>\n",
       "      <td>0</td>\n",
       "      <td>2020</td>\n",
       "      <td>0</td>\n",
       "      <td>...</td>\n",
       "      <td>11.750000</td>\n",
       "      <td>10.428571</td>\n",
       "      <td>8.833333</td>\n",
       "      <td>8.777778</td>\n",
       "      <td>NaN</td>\n",
       "      <td>NaN</td>\n",
       "      <td>NaN</td>\n",
       "      <td>NaN</td>\n",
       "      <td>NaN</td>\n",
       "      <td>NaN</td>\n",
       "    </tr>\n",
       "    <tr>\n",
       "      <th>35229</th>\n",
       "      <td>2020-10-13</td>\n",
       "      <td>002R2</td>\n",
       "      <td>3.0</td>\n",
       "      <td>10</td>\n",
       "      <td>13</td>\n",
       "      <td>287</td>\n",
       "      <td>42</td>\n",
       "      <td>1</td>\n",
       "      <td>2020</td>\n",
       "      <td>0</td>\n",
       "      <td>...</td>\n",
       "      <td>11.500000</td>\n",
       "      <td>11.625000</td>\n",
       "      <td>9.800000</td>\n",
       "      <td>9.437500</td>\n",
       "      <td>NaN</td>\n",
       "      <td>NaN</td>\n",
       "      <td>NaN</td>\n",
       "      <td>NaN</td>\n",
       "      <td>NaN</td>\n",
       "      <td>NaN</td>\n",
       "    </tr>\n",
       "  </tbody>\n",
       "</table>\n",
       "<p>5 rows × 23 columns</p>\n",
       "</div>"
      ],
      "text/plain": [
       "            Date Product ID  Stock Demand  month  day_of_month  day_of_year  \\\n",
       "3691  2020-10-02      002R2           3.0     10             2          276   \n",
       "17169 2020-10-07      002R2          20.0     10             7          281   \n",
       "24864 2020-10-09      002R2           4.0     10             9          283   \n",
       "30951 2020-10-12      002R2          18.0     10            12          286   \n",
       "35229 2020-10-13      002R2           3.0     10            13          287   \n",
       "\n",
       "       week_of_year  day_of_week  year  is_wknd  ...  stock_D_roll_mean_3  \\\n",
       "3691             40            4  2020        1  ...                  NaN   \n",
       "17169            41            2  2020        0  ...                  NaN   \n",
       "24864            41            4  2020        1  ...             8.666667   \n",
       "30951            42            0  2020        0  ...            11.750000   \n",
       "35229            42            1  2020        0  ...            11.500000   \n",
       "\n",
       "       stock_D_roll_mean_4  stock_D_roll_mean_15  stock_D_roll_mean_30  \\\n",
       "3691                   NaN                   NaN                   NaN   \n",
       "17169                  NaN                   NaN                   NaN   \n",
       "24864             7.250000              8.666667              7.250000   \n",
       "30951            10.428571              8.833333              8.777778   \n",
       "35229            11.625000              9.800000              9.437500   \n",
       "\n",
       "       stockD_lag_15  stockD_lag_21  stockD_lag_30  stockD_lag_50  \\\n",
       "3691             NaN            NaN            NaN            NaN   \n",
       "17169            NaN            NaN            NaN            NaN   \n",
       "24864            NaN            NaN            NaN            NaN   \n",
       "30951            NaN            NaN            NaN            NaN   \n",
       "35229            NaN            NaN            NaN            NaN   \n",
       "\n",
       "       stockD_lag_60  stockD_lag_90  \n",
       "3691             NaN            NaN  \n",
       "17169            NaN            NaN  \n",
       "24864            NaN            NaN  \n",
       "30951            NaN            NaN  \n",
       "35229            NaN            NaN  \n",
       "\n",
       "[5 rows x 23 columns]"
      ]
     },
     "execution_count": 32,
     "metadata": {},
     "output_type": "execute_result"
    }
   ],
   "source": [
    "df.head()"
   ]
  },
  {
   "cell_type": "markdown",
   "id": "85eba7d7-b954-43f5-80c2-7947145da8af",
   "metadata": {},
   "source": [
    "### Splitting Data; train and test split"
   ]
  },
  {
   "cell_type": "markdown",
   "id": "02596c92-8db3-4dde-9c5e-84011f7370cd",
   "metadata": {},
   "source": [
    "we will split the data into train and test set. \n",
    "<br>\n",
    "our test set is the last known month of this data which is august(07)"
   ]
  },
  {
   "cell_type": "code",
   "execution_count": 33,
   "id": "9ab83b8c-c005-4b3c-aa34-99668f7f78ce",
   "metadata": {},
   "outputs": [],
   "source": [
    "df.loc[df.Date >= pd.Timestamp('2021-07-01') , 'Stock Demand'] = y_test\n",
    "del y_test\n",
    "\n",
    "# the train data\n",
    "train = df[df.Date < pd.Timestamp('2021-07-01')].copy()\n",
    "# the test data, which is the last month\n",
    "test = df[df.Date >= pd.Timestamp('2021-07-01')].copy()"
   ]
  },
  {
   "cell_type": "markdown",
   "id": "781fd254-a7a5-4792-85b5-2efde639137a",
   "metadata": {},
   "source": [
    "here we remove product ID that are in the test set but were not in the training set.\n",
    "we will use a test data with product ID that must have appeared in our training data as to not confuse the model."
   ]
  },
  {
   "cell_type": "code",
   "execution_count": 34,
   "id": "e198dab5-e36b-4fa5-9a5f-292de5f4888b",
   "metadata": {},
   "outputs": [],
   "source": [
    "ids = train['Product ID'].unique()\n",
    "ids = ids.tolist()\n",
    "test = test[test['Product ID'].isin(ids)]"
   ]
  },
  {
   "cell_type": "code",
   "execution_count": 35,
   "id": "0631b6e9-7707-443f-a71d-a1d7262a461b",
   "metadata": {},
   "outputs": [
    {
     "name": "stdout",
     "output_type": "stream",
     "text": [
      "(609499, 23)\n",
      "(27787, 23)\n"
     ]
    }
   ],
   "source": [
    "# shape of train and test data\n",
    "print(train.shape)\n",
    "print(test.shape)"
   ]
  },
  {
   "cell_type": "markdown",
   "id": "78e596a7-aaa3-4e8d-854c-ca29dab735f3",
   "metadata": {},
   "source": [
    "### Model Building"
   ]
  },
  {
   "cell_type": "code",
   "execution_count": 36,
   "id": "06b2c814-51c0-42c1-af6b-f9825d3e6cbd",
   "metadata": {},
   "outputs": [],
   "source": [
    "from sklearn.compose import ColumnTransformer\n",
    "from sklearn.preprocessing import OneHotEncoder, StandardScaler,LabelEncoder,MinMaxScaler\n",
    "from sklearn.pipeline import Pipeline\n",
    "import xgboost as xgb\n",
    "from sklearn.metrics import r2_score, mean_absolute_error, mean_squared_error,mean_absolute_percentage_error"
   ]
  },
  {
   "cell_type": "markdown",
   "id": "7e6e80e7-f43d-40a7-926b-fb26aaec120a",
   "metadata": {},
   "source": [
    "seperate the target variable and independent variables"
   ]
  },
  {
   "cell_type": "code",
   "execution_count": 37,
   "id": "1bc5c44a-dc77-4604-ac7c-e38780ce86d3",
   "metadata": {},
   "outputs": [],
   "source": [
    "X_train = train.drop(['Stock Demand','Date'],axis=1)\n",
    "y_train = train['Stock Demand']\n",
    "y_train = np.log1p(y_train.values) # scale the target feature to reduce the dispersion of the data\n",
    "\n",
    "X_test = test.drop(['Stock Demand','Date'],axis=1)\n",
    "y_test = test['Stock Demand'] \n",
    "y_test = np.log1p(y_test.values) # we have taken our y_test feature above you can scroll the notebook "
   ]
  },
  {
   "cell_type": "markdown",
   "id": "b8a41243-8fa7-4f8f-87e1-8f5071a657e5",
   "metadata": {
    "tags": []
   },
   "source": [
    "#### Build the pipeline"
   ]
  },
  {
   "cell_type": "code",
   "execution_count": 38,
   "id": "5ff10ed6-1251-4c93-987a-e9cd9efe12e3",
   "metadata": {},
   "outputs": [],
   "source": [
    "OHE = OneHotEncoder(drop='first')# we will encode the Product ID column\n",
    "scaler = MinMaxScaler() # we will scale the other numeric columns\n",
    "\n",
    "num_cols =X_train.columns[1:] # the numerical columns'\n",
    "#num_cols.extend(cols)\n",
    "cat_cols = ['Product ID'] # cat column\n",
    "\n",
    "transformer = ColumnTransformer([('cat_cols', OHE, cat_cols),\n",
    "                                ('num_cols', scaler, num_cols)])\n",
    "\n",
    "# XGB model\n",
    "xg_reg = xgb.XGBRegressor(random_state=42)\n",
    "\n",
    "# the pipeline\n",
    "pipeT = Pipeline([(\"preprocessing\", transformer),\n",
    "                    (\"model\",xg_reg)])"
   ]
  },
  {
   "cell_type": "markdown",
   "id": "9d46626b-888d-433a-995d-a8b6778147ce",
   "metadata": {},
   "source": [
    "**fit pipeline to training data**"
   ]
  },
  {
   "cell_type": "code",
   "execution_count": 39,
   "id": "0afad5c8-410d-495b-a0d6-be291d694c93",
   "metadata": {},
   "outputs": [
    {
     "data": {
      "text/html": [
       "<style>#sk-container-id-1 {color: black;background-color: white;}#sk-container-id-1 pre{padding: 0;}#sk-container-id-1 div.sk-toggleable {background-color: white;}#sk-container-id-1 label.sk-toggleable__label {cursor: pointer;display: block;width: 100%;margin-bottom: 0;padding: 0.3em;box-sizing: border-box;text-align: center;}#sk-container-id-1 label.sk-toggleable__label-arrow:before {content: \"▸\";float: left;margin-right: 0.25em;color: #696969;}#sk-container-id-1 label.sk-toggleable__label-arrow:hover:before {color: black;}#sk-container-id-1 div.sk-estimator:hover label.sk-toggleable__label-arrow:before {color: black;}#sk-container-id-1 div.sk-toggleable__content {max-height: 0;max-width: 0;overflow: hidden;text-align: left;background-color: #f0f8ff;}#sk-container-id-1 div.sk-toggleable__content pre {margin: 0.2em;color: black;border-radius: 0.25em;background-color: #f0f8ff;}#sk-container-id-1 input.sk-toggleable__control:checked~div.sk-toggleable__content {max-height: 200px;max-width: 100%;overflow: auto;}#sk-container-id-1 input.sk-toggleable__control:checked~label.sk-toggleable__label-arrow:before {content: \"▾\";}#sk-container-id-1 div.sk-estimator input.sk-toggleable__control:checked~label.sk-toggleable__label {background-color: #d4ebff;}#sk-container-id-1 div.sk-label input.sk-toggleable__control:checked~label.sk-toggleable__label {background-color: #d4ebff;}#sk-container-id-1 input.sk-hidden--visually {border: 0;clip: rect(1px 1px 1px 1px);clip: rect(1px, 1px, 1px, 1px);height: 1px;margin: -1px;overflow: hidden;padding: 0;position: absolute;width: 1px;}#sk-container-id-1 div.sk-estimator {font-family: monospace;background-color: #f0f8ff;border: 1px dotted black;border-radius: 0.25em;box-sizing: border-box;margin-bottom: 0.5em;}#sk-container-id-1 div.sk-estimator:hover {background-color: #d4ebff;}#sk-container-id-1 div.sk-parallel-item::after {content: \"\";width: 100%;border-bottom: 1px solid gray;flex-grow: 1;}#sk-container-id-1 div.sk-label:hover label.sk-toggleable__label {background-color: #d4ebff;}#sk-container-id-1 div.sk-serial::before {content: \"\";position: absolute;border-left: 1px solid gray;box-sizing: border-box;top: 0;bottom: 0;left: 50%;z-index: 0;}#sk-container-id-1 div.sk-serial {display: flex;flex-direction: column;align-items: center;background-color: white;padding-right: 0.2em;padding-left: 0.2em;position: relative;}#sk-container-id-1 div.sk-item {position: relative;z-index: 1;}#sk-container-id-1 div.sk-parallel {display: flex;align-items: stretch;justify-content: center;background-color: white;position: relative;}#sk-container-id-1 div.sk-item::before, #sk-container-id-1 div.sk-parallel-item::before {content: \"\";position: absolute;border-left: 1px solid gray;box-sizing: border-box;top: 0;bottom: 0;left: 50%;z-index: -1;}#sk-container-id-1 div.sk-parallel-item {display: flex;flex-direction: column;z-index: 1;position: relative;background-color: white;}#sk-container-id-1 div.sk-parallel-item:first-child::after {align-self: flex-end;width: 50%;}#sk-container-id-1 div.sk-parallel-item:last-child::after {align-self: flex-start;width: 50%;}#sk-container-id-1 div.sk-parallel-item:only-child::after {width: 0;}#sk-container-id-1 div.sk-dashed-wrapped {border: 1px dashed gray;margin: 0 0.4em 0.5em 0.4em;box-sizing: border-box;padding-bottom: 0.4em;background-color: white;}#sk-container-id-1 div.sk-label label {font-family: monospace;font-weight: bold;display: inline-block;line-height: 1.2em;}#sk-container-id-1 div.sk-label-container {text-align: center;}#sk-container-id-1 div.sk-container {/* jupyter's `normalize.less` sets `[hidden] { display: none; }` but bootstrap.min.css set `[hidden] { display: none !important; }` so we also need the `!important` here to be able to override the default hidden behavior on the sphinx rendered scikit-learn.org. See: https://github.com/scikit-learn/scikit-learn/issues/21755 */display: inline-block !important;position: relative;}#sk-container-id-1 div.sk-text-repr-fallback {display: none;}</style><div id=\"sk-container-id-1\" class=\"sk-top-container\"><div class=\"sk-text-repr-fallback\"><pre>Pipeline(steps=[(&#x27;preprocessing&#x27;,\n",
       "                 ColumnTransformer(transformers=[(&#x27;cat_cols&#x27;,\n",
       "                                                  OneHotEncoder(drop=&#x27;first&#x27;),\n",
       "                                                  [&#x27;Product ID&#x27;]),\n",
       "                                                 (&#x27;num_cols&#x27;, MinMaxScaler(),\n",
       "                                                  Index([&#x27;month&#x27;, &#x27;day_of_month&#x27;, &#x27;day_of_year&#x27;, &#x27;week_of_year&#x27;, &#x27;day_of_week&#x27;,\n",
       "       &#x27;year&#x27;, &#x27;is_wknd&#x27;, &#x27;is_month_start&#x27;, &#x27;is_month_end&#x27;,\n",
       "       &#x27;stock_D_roll_mean_2&#x27;, &#x27;stock_D_roll_mean_3&#x27;, &#x27;stock_D_roll_mean_4&#x27;,\n",
       "       &#x27;stock_D_roll_m...\n",
       "                              gamma=0, gpu_id=-1, grow_policy=&#x27;depthwise&#x27;,\n",
       "                              importance_type=None, interaction_constraints=&#x27;&#x27;,\n",
       "                              learning_rate=0.300000012, max_bin=256,\n",
       "                              max_cat_to_onehot=4, max_delta_step=0,\n",
       "                              max_depth=6, max_leaves=0, min_child_weight=1,\n",
       "                              missing=nan, monotone_constraints=&#x27;()&#x27;,\n",
       "                              n_estimators=100, n_jobs=0, num_parallel_tree=1,\n",
       "                              predictor=&#x27;auto&#x27;, random_state=42, reg_alpha=0,\n",
       "                              reg_lambda=1, ...))])</pre><b>In a Jupyter environment, please rerun this cell to show the HTML representation or trust the notebook. <br />On GitHub, the HTML representation is unable to render, please try loading this page with nbviewer.org.</b></div><div class=\"sk-container\" hidden><div class=\"sk-item sk-dashed-wrapped\"><div class=\"sk-label-container\"><div class=\"sk-label sk-toggleable\"><input class=\"sk-toggleable__control sk-hidden--visually\" id=\"sk-estimator-id-1\" type=\"checkbox\" ><label for=\"sk-estimator-id-1\" class=\"sk-toggleable__label sk-toggleable__label-arrow\">Pipeline</label><div class=\"sk-toggleable__content\"><pre>Pipeline(steps=[(&#x27;preprocessing&#x27;,\n",
       "                 ColumnTransformer(transformers=[(&#x27;cat_cols&#x27;,\n",
       "                                                  OneHotEncoder(drop=&#x27;first&#x27;),\n",
       "                                                  [&#x27;Product ID&#x27;]),\n",
       "                                                 (&#x27;num_cols&#x27;, MinMaxScaler(),\n",
       "                                                  Index([&#x27;month&#x27;, &#x27;day_of_month&#x27;, &#x27;day_of_year&#x27;, &#x27;week_of_year&#x27;, &#x27;day_of_week&#x27;,\n",
       "       &#x27;year&#x27;, &#x27;is_wknd&#x27;, &#x27;is_month_start&#x27;, &#x27;is_month_end&#x27;,\n",
       "       &#x27;stock_D_roll_mean_2&#x27;, &#x27;stock_D_roll_mean_3&#x27;, &#x27;stock_D_roll_mean_4&#x27;,\n",
       "       &#x27;stock_D_roll_m...\n",
       "                              gamma=0, gpu_id=-1, grow_policy=&#x27;depthwise&#x27;,\n",
       "                              importance_type=None, interaction_constraints=&#x27;&#x27;,\n",
       "                              learning_rate=0.300000012, max_bin=256,\n",
       "                              max_cat_to_onehot=4, max_delta_step=0,\n",
       "                              max_depth=6, max_leaves=0, min_child_weight=1,\n",
       "                              missing=nan, monotone_constraints=&#x27;()&#x27;,\n",
       "                              n_estimators=100, n_jobs=0, num_parallel_tree=1,\n",
       "                              predictor=&#x27;auto&#x27;, random_state=42, reg_alpha=0,\n",
       "                              reg_lambda=1, ...))])</pre></div></div></div><div class=\"sk-serial\"><div class=\"sk-item sk-dashed-wrapped\"><div class=\"sk-label-container\"><div class=\"sk-label sk-toggleable\"><input class=\"sk-toggleable__control sk-hidden--visually\" id=\"sk-estimator-id-2\" type=\"checkbox\" ><label for=\"sk-estimator-id-2\" class=\"sk-toggleable__label sk-toggleable__label-arrow\">preprocessing: ColumnTransformer</label><div class=\"sk-toggleable__content\"><pre>ColumnTransformer(transformers=[(&#x27;cat_cols&#x27;, OneHotEncoder(drop=&#x27;first&#x27;),\n",
       "                                 [&#x27;Product ID&#x27;]),\n",
       "                                (&#x27;num_cols&#x27;, MinMaxScaler(),\n",
       "                                 Index([&#x27;month&#x27;, &#x27;day_of_month&#x27;, &#x27;day_of_year&#x27;, &#x27;week_of_year&#x27;, &#x27;day_of_week&#x27;,\n",
       "       &#x27;year&#x27;, &#x27;is_wknd&#x27;, &#x27;is_month_start&#x27;, &#x27;is_month_end&#x27;,\n",
       "       &#x27;stock_D_roll_mean_2&#x27;, &#x27;stock_D_roll_mean_3&#x27;, &#x27;stock_D_roll_mean_4&#x27;,\n",
       "       &#x27;stock_D_roll_mean_15&#x27;, &#x27;stock_D_roll_mean_30&#x27;, &#x27;stockD_lag_15&#x27;,\n",
       "       &#x27;stockD_lag_21&#x27;, &#x27;stockD_lag_30&#x27;, &#x27;stockD_lag_50&#x27;, &#x27;stockD_lag_60&#x27;,\n",
       "       &#x27;stockD_lag_90&#x27;],\n",
       "      dtype=&#x27;object&#x27;))])</pre></div></div></div><div class=\"sk-parallel\"><div class=\"sk-parallel-item\"><div class=\"sk-item\"><div class=\"sk-label-container\"><div class=\"sk-label sk-toggleable\"><input class=\"sk-toggleable__control sk-hidden--visually\" id=\"sk-estimator-id-3\" type=\"checkbox\" ><label for=\"sk-estimator-id-3\" class=\"sk-toggleable__label sk-toggleable__label-arrow\">cat_cols</label><div class=\"sk-toggleable__content\"><pre>[&#x27;Product ID&#x27;]</pre></div></div></div><div class=\"sk-serial\"><div class=\"sk-item\"><div class=\"sk-estimator sk-toggleable\"><input class=\"sk-toggleable__control sk-hidden--visually\" id=\"sk-estimator-id-4\" type=\"checkbox\" ><label for=\"sk-estimator-id-4\" class=\"sk-toggleable__label sk-toggleable__label-arrow\">OneHotEncoder</label><div class=\"sk-toggleable__content\"><pre>OneHotEncoder(drop=&#x27;first&#x27;)</pre></div></div></div></div></div></div><div class=\"sk-parallel-item\"><div class=\"sk-item\"><div class=\"sk-label-container\"><div class=\"sk-label sk-toggleable\"><input class=\"sk-toggleable__control sk-hidden--visually\" id=\"sk-estimator-id-5\" type=\"checkbox\" ><label for=\"sk-estimator-id-5\" class=\"sk-toggleable__label sk-toggleable__label-arrow\">num_cols</label><div class=\"sk-toggleable__content\"><pre>Index([&#x27;month&#x27;, &#x27;day_of_month&#x27;, &#x27;day_of_year&#x27;, &#x27;week_of_year&#x27;, &#x27;day_of_week&#x27;,\n",
       "       &#x27;year&#x27;, &#x27;is_wknd&#x27;, &#x27;is_month_start&#x27;, &#x27;is_month_end&#x27;,\n",
       "       &#x27;stock_D_roll_mean_2&#x27;, &#x27;stock_D_roll_mean_3&#x27;, &#x27;stock_D_roll_mean_4&#x27;,\n",
       "       &#x27;stock_D_roll_mean_15&#x27;, &#x27;stock_D_roll_mean_30&#x27;, &#x27;stockD_lag_15&#x27;,\n",
       "       &#x27;stockD_lag_21&#x27;, &#x27;stockD_lag_30&#x27;, &#x27;stockD_lag_50&#x27;, &#x27;stockD_lag_60&#x27;,\n",
       "       &#x27;stockD_lag_90&#x27;],\n",
       "      dtype=&#x27;object&#x27;)</pre></div></div></div><div class=\"sk-serial\"><div class=\"sk-item\"><div class=\"sk-estimator sk-toggleable\"><input class=\"sk-toggleable__control sk-hidden--visually\" id=\"sk-estimator-id-6\" type=\"checkbox\" ><label for=\"sk-estimator-id-6\" class=\"sk-toggleable__label sk-toggleable__label-arrow\">MinMaxScaler</label><div class=\"sk-toggleable__content\"><pre>MinMaxScaler()</pre></div></div></div></div></div></div></div></div><div class=\"sk-item\"><div class=\"sk-estimator sk-toggleable\"><input class=\"sk-toggleable__control sk-hidden--visually\" id=\"sk-estimator-id-7\" type=\"checkbox\" ><label for=\"sk-estimator-id-7\" class=\"sk-toggleable__label sk-toggleable__label-arrow\">XGBRegressor</label><div class=\"sk-toggleable__content\"><pre>XGBRegressor(base_score=0.5, booster=&#x27;gbtree&#x27;, callbacks=None,\n",
       "             colsample_bylevel=1, colsample_bynode=1, colsample_bytree=1,\n",
       "             early_stopping_rounds=None, enable_categorical=False,\n",
       "             eval_metric=None, gamma=0, gpu_id=-1, grow_policy=&#x27;depthwise&#x27;,\n",
       "             importance_type=None, interaction_constraints=&#x27;&#x27;,\n",
       "             learning_rate=0.300000012, max_bin=256, max_cat_to_onehot=4,\n",
       "             max_delta_step=0, max_depth=6, max_leaves=0, min_child_weight=1,\n",
       "             missing=nan, monotone_constraints=&#x27;()&#x27;, n_estimators=100, n_jobs=0,\n",
       "             num_parallel_tree=1, predictor=&#x27;auto&#x27;, random_state=42,\n",
       "             reg_alpha=0, reg_lambda=1, ...)</pre></div></div></div></div></div></div></div>"
      ],
      "text/plain": [
       "Pipeline(steps=[('preprocessing',\n",
       "                 ColumnTransformer(transformers=[('cat_cols',\n",
       "                                                  OneHotEncoder(drop='first'),\n",
       "                                                  ['Product ID']),\n",
       "                                                 ('num_cols', MinMaxScaler(),\n",
       "                                                  Index(['month', 'day_of_month', 'day_of_year', 'week_of_year', 'day_of_week',\n",
       "       'year', 'is_wknd', 'is_month_start', 'is_month_end',\n",
       "       'stock_D_roll_mean_2', 'stock_D_roll_mean_3', 'stock_D_roll_mean_4',\n",
       "       'stock_D_roll_m...\n",
       "                              gamma=0, gpu_id=-1, grow_policy='depthwise',\n",
       "                              importance_type=None, interaction_constraints='',\n",
       "                              learning_rate=0.300000012, max_bin=256,\n",
       "                              max_cat_to_onehot=4, max_delta_step=0,\n",
       "                              max_depth=6, max_leaves=0, min_child_weight=1,\n",
       "                              missing=nan, monotone_constraints='()',\n",
       "                              n_estimators=100, n_jobs=0, num_parallel_tree=1,\n",
       "                              predictor='auto', random_state=42, reg_alpha=0,\n",
       "                              reg_lambda=1, ...))])"
      ]
     },
     "execution_count": 39,
     "metadata": {},
     "output_type": "execute_result"
    }
   ],
   "source": [
    "pipeT.fit(X_train,y_train)"
   ]
  },
  {
   "cell_type": "code",
   "execution_count": 40,
   "id": "a0ea6913-97b9-4f15-b2b4-6e0b28bb26ae",
   "metadata": {},
   "outputs": [],
   "source": [
    "#X_train = pipeT.transform(X_train)\n",
    "#X_test  = pipeT.transform(X_test)"
   ]
  },
  {
   "cell_type": "code",
   "execution_count": 41,
   "id": "be5e7709-e395-47fc-8648-f24633d89df1",
   "metadata": {},
   "outputs": [],
   "source": [
    "# Run XGB \n",
    "#xg_red = xgb.XGBRegressor(random_state=42)"
   ]
  },
  {
   "cell_type": "code",
   "execution_count": 42,
   "id": "43d96821-d02b-41e4-be60-9aed0dbbf26f",
   "metadata": {},
   "outputs": [],
   "source": [
    "#xg_red.fit(X_train,y_train)"
   ]
  },
  {
   "cell_type": "markdown",
   "id": "6a8a1f02-7c04-45a2-9186-beb942100c68",
   "metadata": {},
   "source": [
    "**get prediction on test data**"
   ]
  },
  {
   "cell_type": "code",
   "execution_count": 43,
   "id": "677917a0-2694-4954-918e-61e5b8f3ec8a",
   "metadata": {},
   "outputs": [],
   "source": [
    "pred = pipeT.predict(X_test)\n",
    "\n",
    "y_test = np.expm1(y_test)  # reverse of the log1p\n",
    "pred = np.round(np.expm1(pred)) # reverse the log1p on prediction cos the model learnt on the log1p scale"
   ]
  },
  {
   "cell_type": "code",
   "execution_count": 44,
   "id": "6526703a-5cb2-4a00-af98-cefe5fa3f51c",
   "metadata": {},
   "outputs": [],
   "source": [
    "evalua = test[['Product ID','month','year','Stock Demand']].copy()\n",
    "evalua['Stock Demand'] =y_test.astype(int)\n",
    "evalua['pred'] = pred.astype(int)"
   ]
  },
  {
   "cell_type": "code",
   "execution_count": 45,
   "id": "4f936c99-84ae-46f5-bf1e-8209f947125e",
   "metadata": {},
   "outputs": [],
   "source": [
    "eval_df_monthly = evalua.groupby(['Product ID','month','year']).sum()"
   ]
  },
  {
   "cell_type": "code",
   "execution_count": 46,
   "id": "24ce33e6-957a-4c75-86ed-3139377724af",
   "metadata": {},
   "outputs": [
    {
     "data": {
      "text/html": [
       "<style type=\"text/css\">\n",
       "#T_3a46c_row0_col0, #T_3a46c_row0_col1, #T_3a46c_row2_col0, #T_3a46c_row2_col1, #T_3a46c_row3_col0, #T_3a46c_row3_col1, #T_3a46c_row5_col0, #T_3a46c_row5_col1, #T_3a46c_row6_col0, #T_3a46c_row6_col1, #T_3a46c_row8_col0, #T_3a46c_row8_col1, #T_3a46c_row10_col0, #T_3a46c_row11_col0, #T_3a46c_row11_col1, #T_3a46c_row12_col0, #T_3a46c_row12_col1, #T_3a46c_row13_col0, #T_3a46c_row15_col0, #T_3a46c_row15_col1, #T_3a46c_row16_col0, #T_3a46c_row16_col1, #T_3a46c_row17_col0, #T_3a46c_row19_col0, #T_3a46c_row19_col1 {\n",
       "  background-color: #008066;\n",
       "  color: #f1f1f1;\n",
       "}\n",
       "#T_3a46c_row1_col0 {\n",
       "  background-color: #0a8466;\n",
       "  color: #f1f1f1;\n",
       "}\n",
       "#T_3a46c_row1_col1 {\n",
       "  background-color: #048266;\n",
       "  color: #f1f1f1;\n",
       "}\n",
       "#T_3a46c_row4_col0, #T_3a46c_row4_col1 {\n",
       "  background-color: #ffff66;\n",
       "  color: #000000;\n",
       "}\n",
       "#T_3a46c_row7_col0, #T_3a46c_row7_col1, #T_3a46c_row13_col1, #T_3a46c_row14_col0, #T_3a46c_row14_col1 {\n",
       "  background-color: #028066;\n",
       "  color: #f1f1f1;\n",
       "}\n",
       "#T_3a46c_row9_col0 {\n",
       "  background-color: #0d8666;\n",
       "  color: #f1f1f1;\n",
       "}\n",
       "#T_3a46c_row9_col1 {\n",
       "  background-color: #118866;\n",
       "  color: #f1f1f1;\n",
       "}\n",
       "#T_3a46c_row10_col1, #T_3a46c_row17_col1, #T_3a46c_row18_col0, #T_3a46c_row18_col1 {\n",
       "  background-color: #018066;\n",
       "  color: #f1f1f1;\n",
       "}\n",
       "</style>\n",
       "<table id=\"T_3a46c\">\n",
       "  <thead>\n",
       "    <tr>\n",
       "      <th class=\"blank\" >&nbsp;</th>\n",
       "      <th class=\"blank\" >&nbsp;</th>\n",
       "      <th class=\"blank level0\" >&nbsp;</th>\n",
       "      <th id=\"T_3a46c_level0_col0\" class=\"col_heading level0 col0\" >Stock Demand</th>\n",
       "      <th id=\"T_3a46c_level0_col1\" class=\"col_heading level0 col1\" >pred</th>\n",
       "    </tr>\n",
       "    <tr>\n",
       "      <th class=\"index_name level0\" >Product ID</th>\n",
       "      <th class=\"index_name level1\" >month</th>\n",
       "      <th class=\"index_name level2\" >year</th>\n",
       "      <th class=\"blank col0\" >&nbsp;</th>\n",
       "      <th class=\"blank col1\" >&nbsp;</th>\n",
       "    </tr>\n",
       "  </thead>\n",
       "  <tbody>\n",
       "    <tr>\n",
       "      <th id=\"T_3a46c_level0_row0\" class=\"row_heading level0 row0\" >002R2</th>\n",
       "      <th id=\"T_3a46c_level1_row0\" class=\"row_heading level1 row0\" >7</th>\n",
       "      <th id=\"T_3a46c_level2_row0\" class=\"row_heading level2 row0\" >2021</th>\n",
       "      <td id=\"T_3a46c_row0_col0\" class=\"data row0 col0\" >54</td>\n",
       "      <td id=\"T_3a46c_row0_col1\" class=\"data row0 col1\" >58</td>\n",
       "    </tr>\n",
       "    <tr>\n",
       "      <th id=\"T_3a46c_level0_row1\" class=\"row_heading level0 row1\" >004IV</th>\n",
       "      <th id=\"T_3a46c_level1_row1\" class=\"row_heading level1 row1\" >7</th>\n",
       "      <th id=\"T_3a46c_level2_row1\" class=\"row_heading level2 row1\" >2021</th>\n",
       "      <td id=\"T_3a46c_row1_col0\" class=\"data row1 col0\" >1683</td>\n",
       "      <td id=\"T_3a46c_row1_col1\" class=\"data row1 col1\" >516</td>\n",
       "    </tr>\n",
       "    <tr>\n",
       "      <th id=\"T_3a46c_level0_row2\" class=\"row_heading level0 row2\" >00C9A</th>\n",
       "      <th id=\"T_3a46c_level1_row2\" class=\"row_heading level1 row2\" >7</th>\n",
       "      <th id=\"T_3a46c_level2_row2\" class=\"row_heading level2 row2\" >2021</th>\n",
       "      <td id=\"T_3a46c_row2_col0\" class=\"data row2 col0\" >6</td>\n",
       "      <td id=\"T_3a46c_row2_col1\" class=\"data row2 col1\" >14</td>\n",
       "    </tr>\n",
       "    <tr>\n",
       "      <th id=\"T_3a46c_level0_row3\" class=\"row_heading level0 row3\" >00X32</th>\n",
       "      <th id=\"T_3a46c_level1_row3\" class=\"row_heading level1 row3\" >7</th>\n",
       "      <th id=\"T_3a46c_level2_row3\" class=\"row_heading level2 row3\" >2021</th>\n",
       "      <td id=\"T_3a46c_row3_col0\" class=\"data row3 col0\" >77</td>\n",
       "      <td id=\"T_3a46c_row3_col1\" class=\"data row3 col1\" >57</td>\n",
       "    </tr>\n",
       "    <tr>\n",
       "      <th id=\"T_3a46c_level0_row4\" class=\"row_heading level0 row4\" >011ER</th>\n",
       "      <th id=\"T_3a46c_level1_row4\" class=\"row_heading level1 row4\" >7</th>\n",
       "      <th id=\"T_3a46c_level2_row4\" class=\"row_heading level2 row4\" >2021</th>\n",
       "      <td id=\"T_3a46c_row4_col0\" class=\"data row4 col0\" >42506</td>\n",
       "      <td id=\"T_3a46c_row4_col1\" class=\"data row4 col1\" >26842</td>\n",
       "    </tr>\n",
       "    <tr>\n",
       "      <th id=\"T_3a46c_level0_row5\" class=\"row_heading level0 row5\" >013U2</th>\n",
       "      <th id=\"T_3a46c_level1_row5\" class=\"row_heading level1 row5\" >7</th>\n",
       "      <th id=\"T_3a46c_level2_row5\" class=\"row_heading level2 row5\" >2021</th>\n",
       "      <td id=\"T_3a46c_row5_col0\" class=\"data row5 col0\" >97</td>\n",
       "      <td id=\"T_3a46c_row5_col1\" class=\"data row5 col1\" >70</td>\n",
       "    </tr>\n",
       "    <tr>\n",
       "      <th id=\"T_3a46c_level0_row6\" class=\"row_heading level0 row6\" >019CE</th>\n",
       "      <th id=\"T_3a46c_level1_row6\" class=\"row_heading level1 row6\" >7</th>\n",
       "      <th id=\"T_3a46c_level2_row6\" class=\"row_heading level2 row6\" >2021</th>\n",
       "      <td id=\"T_3a46c_row6_col0\" class=\"data row6 col0\" >21</td>\n",
       "      <td id=\"T_3a46c_row6_col1\" class=\"data row6 col1\" >24</td>\n",
       "    </tr>\n",
       "    <tr>\n",
       "      <th id=\"T_3a46c_level0_row7\" class=\"row_heading level0 row7\" >01ACU</th>\n",
       "      <th id=\"T_3a46c_level1_row7\" class=\"row_heading level1 row7\" >7</th>\n",
       "      <th id=\"T_3a46c_level2_row7\" class=\"row_heading level2 row7\" >2021</th>\n",
       "      <td id=\"T_3a46c_row7_col0\" class=\"data row7 col0\" >368</td>\n",
       "      <td id=\"T_3a46c_row7_col1\" class=\"data row7 col1\" >265</td>\n",
       "    </tr>\n",
       "    <tr>\n",
       "      <th id=\"T_3a46c_level0_row8\" class=\"row_heading level0 row8\" >01ADV</th>\n",
       "      <th id=\"T_3a46c_level1_row8\" class=\"row_heading level1 row8\" >7</th>\n",
       "      <th id=\"T_3a46c_level2_row8\" class=\"row_heading level2 row8\" >2021</th>\n",
       "      <td id=\"T_3a46c_row8_col0\" class=\"data row8 col0\" >88</td>\n",
       "      <td id=\"T_3a46c_row8_col1\" class=\"data row8 col1\" >80</td>\n",
       "    </tr>\n",
       "    <tr>\n",
       "      <th id=\"T_3a46c_level0_row9\" class=\"row_heading level0 row9\" >01AIC</th>\n",
       "      <th id=\"T_3a46c_level1_row9\" class=\"row_heading level1 row9\" >7</th>\n",
       "      <th id=\"T_3a46c_level2_row9\" class=\"row_heading level2 row9\" >2021</th>\n",
       "      <td id=\"T_3a46c_row9_col0\" class=\"data row9 col0\" >2300</td>\n",
       "      <td id=\"T_3a46c_row9_col1\" class=\"data row9 col1\" >1819</td>\n",
       "    </tr>\n",
       "    <tr>\n",
       "      <th id=\"T_3a46c_level0_row10\" class=\"row_heading level0 row10\" >01ALL</th>\n",
       "      <th id=\"T_3a46c_level1_row10\" class=\"row_heading level1 row10\" >7</th>\n",
       "      <th id=\"T_3a46c_level2_row10\" class=\"row_heading level2 row10\" >2021</th>\n",
       "      <td id=\"T_3a46c_row10_col0\" class=\"data row10 col0\" >159</td>\n",
       "      <td id=\"T_3a46c_row10_col1\" class=\"data row10 col1\" >222</td>\n",
       "    </tr>\n",
       "    <tr>\n",
       "      <th id=\"T_3a46c_level0_row11\" class=\"row_heading level0 row11\" >01APL</th>\n",
       "      <th id=\"T_3a46c_level1_row11\" class=\"row_heading level1 row11\" >7</th>\n",
       "      <th id=\"T_3a46c_level2_row11\" class=\"row_heading level2 row11\" >2021</th>\n",
       "      <td id=\"T_3a46c_row11_col0\" class=\"data row11 col0\" >73</td>\n",
       "      <td id=\"T_3a46c_row11_col1\" class=\"data row11 col1\" >76</td>\n",
       "    </tr>\n",
       "    <tr>\n",
       "      <th id=\"T_3a46c_level0_row12\" class=\"row_heading level0 row12\" >01CCO</th>\n",
       "      <th id=\"T_3a46c_level1_row12\" class=\"row_heading level1 row12\" >7</th>\n",
       "      <th id=\"T_3a46c_level2_row12\" class=\"row_heading level2 row12\" >2021</th>\n",
       "      <td id=\"T_3a46c_row12_col0\" class=\"data row12 col0\" >118</td>\n",
       "      <td id=\"T_3a46c_row12_col1\" class=\"data row12 col1\" >53</td>\n",
       "    </tr>\n",
       "    <tr>\n",
       "      <th id=\"T_3a46c_level0_row13\" class=\"row_heading level0 row13\" >01CDI</th>\n",
       "      <th id=\"T_3a46c_level1_row13\" class=\"row_heading level1 row13\" >7</th>\n",
       "      <th id=\"T_3a46c_level2_row13\" class=\"row_heading level2 row13\" >2021</th>\n",
       "      <td id=\"T_3a46c_row13_col0\" class=\"data row13 col0\" >63</td>\n",
       "      <td id=\"T_3a46c_row13_col1\" class=\"data row13 col1\" >244</td>\n",
       "    </tr>\n",
       "    <tr>\n",
       "      <th id=\"T_3a46c_level0_row14\" class=\"row_heading level0 row14\" >01CNI</th>\n",
       "      <th id=\"T_3a46c_level1_row14\" class=\"row_heading level1 row14\" >7</th>\n",
       "      <th id=\"T_3a46c_level2_row14\" class=\"row_heading level2 row14\" >2021</th>\n",
       "      <td id=\"T_3a46c_row14_col0\" class=\"data row14 col0\" >394</td>\n",
       "      <td id=\"T_3a46c_row14_col1\" class=\"data row14 col1\" >285</td>\n",
       "    </tr>\n",
       "    <tr>\n",
       "      <th id=\"T_3a46c_level0_row15\" class=\"row_heading level0 row15\" >01DLR</th>\n",
       "      <th id=\"T_3a46c_level1_row15\" class=\"row_heading level1 row15\" >7</th>\n",
       "      <th id=\"T_3a46c_level2_row15\" class=\"row_heading level2 row15\" >2021</th>\n",
       "      <td id=\"T_3a46c_row15_col0\" class=\"data row15 col0\" >3</td>\n",
       "      <td id=\"T_3a46c_row15_col1\" class=\"data row15 col1\" >15</td>\n",
       "    </tr>\n",
       "    <tr>\n",
       "      <th id=\"T_3a46c_level0_row16\" class=\"row_heading level0 row16\" >01DNE</th>\n",
       "      <th id=\"T_3a46c_level1_row16\" class=\"row_heading level1 row16\" >7</th>\n",
       "      <th id=\"T_3a46c_level2_row16\" class=\"row_heading level2 row16\" >2021</th>\n",
       "      <td id=\"T_3a46c_row16_col0\" class=\"data row16 col0\" >43</td>\n",
       "      <td id=\"T_3a46c_row16_col1\" class=\"data row16 col1\" >17</td>\n",
       "    </tr>\n",
       "    <tr>\n",
       "      <th id=\"T_3a46c_level0_row17\" class=\"row_heading level0 row17\" >01DOI</th>\n",
       "      <th id=\"T_3a46c_level1_row17\" class=\"row_heading level1 row17\" >7</th>\n",
       "      <th id=\"T_3a46c_level2_row17\" class=\"row_heading level2 row17\" >2021</th>\n",
       "      <td id=\"T_3a46c_row17_col0\" class=\"data row17 col0\" >157</td>\n",
       "      <td id=\"T_3a46c_row17_col1\" class=\"data row17 col1\" >134</td>\n",
       "    </tr>\n",
       "    <tr>\n",
       "      <th id=\"T_3a46c_level0_row18\" class=\"row_heading level0 row18\" >01EBB</th>\n",
       "      <th id=\"T_3a46c_level1_row18\" class=\"row_heading level1 row18\" >7</th>\n",
       "      <th id=\"T_3a46c_level2_row18\" class=\"row_heading level2 row18\" >2021</th>\n",
       "      <td id=\"T_3a46c_row18_col0\" class=\"data row18 col0\" >184</td>\n",
       "      <td id=\"T_3a46c_row18_col1\" class=\"data row18 col1\" >178</td>\n",
       "    </tr>\n",
       "    <tr>\n",
       "      <th id=\"T_3a46c_level0_row19\" class=\"row_heading level0 row19\" >01EFL</th>\n",
       "      <th id=\"T_3a46c_level1_row19\" class=\"row_heading level1 row19\" >7</th>\n",
       "      <th id=\"T_3a46c_level2_row19\" class=\"row_heading level2 row19\" >2021</th>\n",
       "      <td id=\"T_3a46c_row19_col0\" class=\"data row19 col0\" >47</td>\n",
       "      <td id=\"T_3a46c_row19_col1\" class=\"data row19 col1\" >54</td>\n",
       "    </tr>\n",
       "  </tbody>\n",
       "</table>\n"
      ],
      "text/plain": [
       "<pandas.io.formats.style.Styler at 0x7fc84ffb89a0>"
      ]
     },
     "execution_count": 46,
     "metadata": {},
     "output_type": "execute_result"
    }
   ],
   "source": [
    "eval_df_monthly[:20].style.background_gradient(cmap='summer')"
   ]
  },
  {
   "cell_type": "code",
   "execution_count": 47,
   "id": "2f733f7d-a1ad-4b7b-8ef2-df855a4da5b7",
   "metadata": {},
   "outputs": [
    {
     "data": {
      "text/html": [
       "<style type=\"text/css\">\n",
       "#T_767e1_row0_col0, #T_767e1_row0_col1, #T_767e1_row1_col0, #T_767e1_row1_col1, #T_767e1_row17_col0, #T_767e1_row17_col1 {\n",
       "  background-color: #008066;\n",
       "  color: #f1f1f1;\n",
       "}\n",
       "#T_767e1_row2_col0 {\n",
       "  background-color: #e4f266;\n",
       "  color: #000000;\n",
       "}\n",
       "#T_767e1_row2_col1, #T_767e1_row12_col0 {\n",
       "  background-color: #ffff66;\n",
       "  color: #000000;\n",
       "}\n",
       "#T_767e1_row3_col0 {\n",
       "  background-color: #45a266;\n",
       "  color: #f1f1f1;\n",
       "}\n",
       "#T_767e1_row3_col1 {\n",
       "  background-color: #138966;\n",
       "  color: #f1f1f1;\n",
       "}\n",
       "#T_767e1_row4_col0 {\n",
       "  background-color: #51a866;\n",
       "  color: #f1f1f1;\n",
       "}\n",
       "#T_767e1_row4_col1, #T_767e1_row10_col0 {\n",
       "  background-color: #068266;\n",
       "  color: #f1f1f1;\n",
       "}\n",
       "#T_767e1_row5_col0, #T_767e1_row6_col0, #T_767e1_row6_col1, #T_767e1_row8_col0, #T_767e1_row15_col0, #T_767e1_row18_col1 {\n",
       "  background-color: #048266;\n",
       "  color: #f1f1f1;\n",
       "}\n",
       "#T_767e1_row5_col1, #T_767e1_row15_col1, #T_767e1_row19_col1 {\n",
       "  background-color: #028066;\n",
       "  color: #f1f1f1;\n",
       "}\n",
       "#T_767e1_row7_col0, #T_767e1_row8_col1, #T_767e1_row10_col1, #T_767e1_row13_col1, #T_767e1_row19_col0 {\n",
       "  background-color: #038166;\n",
       "  color: #f1f1f1;\n",
       "}\n",
       "#T_767e1_row7_col1 {\n",
       "  background-color: #018066;\n",
       "  color: #f1f1f1;\n",
       "}\n",
       "#T_767e1_row9_col0 {\n",
       "  background-color: #229066;\n",
       "  color: #f1f1f1;\n",
       "}\n",
       "#T_767e1_row9_col1 {\n",
       "  background-color: #118866;\n",
       "  color: #f1f1f1;\n",
       "}\n",
       "#T_767e1_row11_col0 {\n",
       "  background-color: #2d9666;\n",
       "  color: #f1f1f1;\n",
       "}\n",
       "#T_767e1_row11_col1 {\n",
       "  background-color: #188c66;\n",
       "  color: #f1f1f1;\n",
       "}\n",
       "#T_767e1_row12_col1, #T_767e1_row14_col0 {\n",
       "  background-color: #3e9e66;\n",
       "  color: #f1f1f1;\n",
       "}\n",
       "#T_767e1_row13_col0, #T_767e1_row16_col1 {\n",
       "  background-color: #078366;\n",
       "  color: #f1f1f1;\n",
       "}\n",
       "#T_767e1_row14_col1, #T_767e1_row16_col0 {\n",
       "  background-color: #1a8c66;\n",
       "  color: #f1f1f1;\n",
       "}\n",
       "#T_767e1_row18_col0 {\n",
       "  background-color: #0b8566;\n",
       "  color: #f1f1f1;\n",
       "}\n",
       "</style>\n",
       "<table id=\"T_767e1\">\n",
       "  <thead>\n",
       "    <tr>\n",
       "      <th class=\"blank\" >&nbsp;</th>\n",
       "      <th class=\"blank\" >&nbsp;</th>\n",
       "      <th class=\"blank level0\" >&nbsp;</th>\n",
       "      <th id=\"T_767e1_level0_col0\" class=\"col_heading level0 col0\" >Stock Demand</th>\n",
       "      <th id=\"T_767e1_level0_col1\" class=\"col_heading level0 col1\" >pred</th>\n",
       "    </tr>\n",
       "    <tr>\n",
       "      <th class=\"index_name level0\" >Product ID</th>\n",
       "      <th class=\"index_name level1\" >month</th>\n",
       "      <th class=\"index_name level2\" >year</th>\n",
       "      <th class=\"blank col0\" >&nbsp;</th>\n",
       "      <th class=\"blank col1\" >&nbsp;</th>\n",
       "    </tr>\n",
       "  </thead>\n",
       "  <tbody>\n",
       "    <tr>\n",
       "      <th id=\"T_767e1_level0_row0\" class=\"row_heading level0 row0\" >Z6D0R</th>\n",
       "      <th id=\"T_767e1_level1_row0\" class=\"row_heading level1 row0\" >7</th>\n",
       "      <th id=\"T_767e1_level2_row0\" class=\"row_heading level2 row0\" >2021</th>\n",
       "      <td id=\"T_767e1_row0_col0\" class=\"data row0 col0\" >7</td>\n",
       "      <td id=\"T_767e1_row0_col1\" class=\"data row0 col1\" >18</td>\n",
       "    </tr>\n",
       "    <tr>\n",
       "      <th id=\"T_767e1_level0_row1\" class=\"row_heading level0 row1\" >Z6D7R</th>\n",
       "      <th id=\"T_767e1_level1_row1\" class=\"row_heading level1 row1\" >7</th>\n",
       "      <th id=\"T_767e1_level2_row1\" class=\"row_heading level2 row1\" >2021</th>\n",
       "      <td id=\"T_767e1_row1_col0\" class=\"data row1 col0\" >7</td>\n",
       "      <td id=\"T_767e1_row1_col1\" class=\"data row1 col1\" >14</td>\n",
       "    </tr>\n",
       "    <tr>\n",
       "      <th id=\"T_767e1_level0_row2\" class=\"row_heading level0 row2\" >ZA10R</th>\n",
       "      <th id=\"T_767e1_level1_row2\" class=\"row_heading level1 row2\" >7</th>\n",
       "      <th id=\"T_767e1_level2_row2\" class=\"row_heading level2 row2\" >2021</th>\n",
       "      <td id=\"T_767e1_row2_col0\" class=\"data row2 col0\" >1469</td>\n",
       "      <td id=\"T_767e1_row2_col1\" class=\"data row2 col1\" >2580</td>\n",
       "    </tr>\n",
       "    <tr>\n",
       "      <th id=\"T_767e1_level0_row3\" class=\"row_heading level0 row3\" >ZAD10</th>\n",
       "      <th id=\"T_767e1_level1_row3\" class=\"row_heading level1 row3\" >7</th>\n",
       "      <th id=\"T_767e1_level2_row3\" class=\"row_heading level2 row3\" >2021</th>\n",
       "      <td id=\"T_767e1_row3_col0\" class=\"data row3 col0\" >454</td>\n",
       "      <td id=\"T_767e1_row3_col1\" class=\"data row3 col1\" >199</td>\n",
       "    </tr>\n",
       "    <tr>\n",
       "      <th id=\"T_767e1_level0_row4\" class=\"row_heading level0 row4\" >ZC25D</th>\n",
       "      <th id=\"T_767e1_level1_row4\" class=\"row_heading level1 row4\" >7</th>\n",
       "      <th id=\"T_767e1_level2_row4\" class=\"row_heading level2 row4\" >2021</th>\n",
       "      <td id=\"T_767e1_row4_col0\" class=\"data row4 col0\" >529</td>\n",
       "      <td id=\"T_767e1_row4_col1\" class=\"data row4 col1\" >69</td>\n",
       "    </tr>\n",
       "    <tr>\n",
       "      <th id=\"T_767e1_level0_row5\" class=\"row_heading level0 row5\" >ZD02E</th>\n",
       "      <th id=\"T_767e1_level1_row5\" class=\"row_heading level1 row5\" >7</th>\n",
       "      <th id=\"T_767e1_level2_row5\" class=\"row_heading level2 row5\" >2021</th>\n",
       "      <td id=\"T_767e1_row5_col0\" class=\"data row5 col0\" >37</td>\n",
       "      <td id=\"T_767e1_row5_col1\" class=\"data row5 col1\" >32</td>\n",
       "    </tr>\n",
       "    <tr>\n",
       "      <th id=\"T_767e1_level0_row6\" class=\"row_heading level0 row6\" >ZD2R7</th>\n",
       "      <th id=\"T_767e1_level1_row6\" class=\"row_heading level1 row6\" >7</th>\n",
       "      <th id=\"T_767e1_level2_row6\" class=\"row_heading level2 row6\" >2021</th>\n",
       "      <td id=\"T_767e1_row6_col0\" class=\"data row6 col0\" >38</td>\n",
       "      <td id=\"T_767e1_row6_col1\" class=\"data row6 col1\" >53</td>\n",
       "    </tr>\n",
       "    <tr>\n",
       "      <th id=\"T_767e1_level0_row7\" class=\"row_heading level0 row7\" >ZD4A0</th>\n",
       "      <th id=\"T_767e1_level1_row7\" class=\"row_heading level1 row7\" >7</th>\n",
       "      <th id=\"T_767e1_level2_row7\" class=\"row_heading level2 row7\" >2021</th>\n",
       "      <td id=\"T_767e1_row7_col0\" class=\"data row7 col0\" >26</td>\n",
       "      <td id=\"T_767e1_row7_col1\" class=\"data row7 col1\" >27</td>\n",
       "    </tr>\n",
       "    <tr>\n",
       "      <th id=\"T_767e1_level0_row8\" class=\"row_heading level0 row8\" >ZD4R5</th>\n",
       "      <th id=\"T_767e1_level1_row8\" class=\"row_heading level1 row8\" >7</th>\n",
       "      <th id=\"T_767e1_level2_row8\" class=\"row_heading level2 row8\" >2021</th>\n",
       "      <td id=\"T_767e1_row8_col0\" class=\"data row8 col0\" >36</td>\n",
       "      <td id=\"T_767e1_row8_col1\" class=\"data row8 col1\" >41</td>\n",
       "    </tr>\n",
       "    <tr>\n",
       "      <th id=\"T_767e1_level0_row9\" class=\"row_heading level0 row9\" >ZDR43</th>\n",
       "      <th id=\"T_767e1_level1_row9\" class=\"row_heading level1 row9\" >7</th>\n",
       "      <th id=\"T_767e1_level2_row9\" class=\"row_heading level2 row9\" >2021</th>\n",
       "      <td id=\"T_767e1_row9_col0\" class=\"data row9 col0\" >226</td>\n",
       "      <td id=\"T_767e1_row9_col1\" class=\"data row9 col1\" >186</td>\n",
       "    </tr>\n",
       "    <tr>\n",
       "      <th id=\"T_767e1_level0_row10\" class=\"row_heading level0 row10\" >ZDS30</th>\n",
       "      <th id=\"T_767e1_level1_row10\" class=\"row_heading level1 row10\" >7</th>\n",
       "      <th id=\"T_767e1_level2_row10\" class=\"row_heading level2 row10\" >2021</th>\n",
       "      <td id=\"T_767e1_row10_col0\" class=\"data row10 col0\" >46</td>\n",
       "      <td id=\"T_767e1_row10_col1\" class=\"data row10 col1\" >42</td>\n",
       "    </tr>\n",
       "    <tr>\n",
       "      <th id=\"T_767e1_level0_row11\" class=\"row_heading level0 row11\" >ZI0N2</th>\n",
       "      <th id=\"T_767e1_level1_row11\" class=\"row_heading level1 row11\" >7</th>\n",
       "      <th id=\"T_767e1_level2_row11\" class=\"row_heading level2 row11\" >2021</th>\n",
       "      <td id=\"T_767e1_row11_col0\" class=\"data row11 col0\" >297</td>\n",
       "      <td id=\"T_767e1_row11_col1\" class=\"data row11 col1\" >251</td>\n",
       "    </tr>\n",
       "    <tr>\n",
       "      <th id=\"T_767e1_level0_row12\" class=\"row_heading level0 row12\" >ZIA40</th>\n",
       "      <th id=\"T_767e1_level1_row12\" class=\"row_heading level1 row12\" >7</th>\n",
       "      <th id=\"T_767e1_level2_row12\" class=\"row_heading level2 row12\" >2021</th>\n",
       "      <td id=\"T_767e1_row12_col0\" class=\"data row12 col0\" >1645</td>\n",
       "      <td id=\"T_767e1_row12_col1\" class=\"data row12 col1\" >639</td>\n",
       "    </tr>\n",
       "    <tr>\n",
       "      <th id=\"T_767e1_level0_row13\" class=\"row_heading level0 row13\" >ZL03A</th>\n",
       "      <th id=\"T_767e1_level1_row13\" class=\"row_heading level1 row13\" >7</th>\n",
       "      <th id=\"T_767e1_level2_row13\" class=\"row_heading level2 row13\" >2021</th>\n",
       "      <td id=\"T_767e1_row13_col0\" class=\"data row13 col0\" >53</td>\n",
       "      <td id=\"T_767e1_row13_col1\" class=\"data row13 col1\" >39</td>\n",
       "    </tr>\n",
       "    <tr>\n",
       "      <th id=\"T_767e1_level0_row14\" class=\"row_heading level0 row14\" >ZOV10</th>\n",
       "      <th id=\"T_767e1_level1_row14\" class=\"row_heading level1 row14\" >7</th>\n",
       "      <th id=\"T_767e1_level2_row14\" class=\"row_heading level2 row14\" >2021</th>\n",
       "      <td id=\"T_767e1_row14_col0\" class=\"data row14 col0\" >408</td>\n",
       "      <td id=\"T_767e1_row14_col1\" class=\"data row14 col1\" >272</td>\n",
       "    </tr>\n",
       "    <tr>\n",
       "      <th id=\"T_767e1_level0_row15\" class=\"row_heading level0 row15\" >ZR0D5</th>\n",
       "      <th id=\"T_767e1_level1_row15\" class=\"row_heading level1 row15\" >7</th>\n",
       "      <th id=\"T_767e1_level2_row15\" class=\"row_heading level2 row15\" >2021</th>\n",
       "      <td id=\"T_767e1_row15_col0\" class=\"data row15 col0\" >33</td>\n",
       "      <td id=\"T_767e1_row15_col1\" class=\"data row15 col1\" >35</td>\n",
       "    </tr>\n",
       "    <tr>\n",
       "      <th id=\"T_767e1_level0_row16\" class=\"row_heading level0 row16\" >ZR20A</th>\n",
       "      <th id=\"T_767e1_level1_row16\" class=\"row_heading level1 row16\" >7</th>\n",
       "      <th id=\"T_767e1_level2_row16\" class=\"row_heading level2 row16\" >2021</th>\n",
       "      <td id=\"T_767e1_row16_col0\" class=\"data row16 col0\" >173</td>\n",
       "      <td id=\"T_767e1_row16_col1\" class=\"data row16 col1\" >84</td>\n",
       "    </tr>\n",
       "    <tr>\n",
       "      <th id=\"T_767e1_level0_row17\" class=\"row_heading level0 row17\" >ZRD36</th>\n",
       "      <th id=\"T_767e1_level1_row17\" class=\"row_heading level1 row17\" >7</th>\n",
       "      <th id=\"T_767e1_level2_row17\" class=\"row_heading level2 row17\" >2021</th>\n",
       "      <td id=\"T_767e1_row17_col0\" class=\"data row17 col0\" >6</td>\n",
       "      <td id=\"T_767e1_row17_col1\" class=\"data row17 col1\" >8</td>\n",
       "    </tr>\n",
       "    <tr>\n",
       "      <th id=\"T_767e1_level0_row18\" class=\"row_heading level0 row18\" >ZV0I1</th>\n",
       "      <th id=\"T_767e1_level1_row18\" class=\"row_heading level1 row18\" >7</th>\n",
       "      <th id=\"T_767e1_level2_row18\" class=\"row_heading level2 row18\" >2021</th>\n",
       "      <td id=\"T_767e1_row18_col0\" class=\"data row18 col0\" >77</td>\n",
       "      <td id=\"T_767e1_row18_col1\" class=\"data row18 col1\" >50</td>\n",
       "    </tr>\n",
       "    <tr>\n",
       "      <th id=\"T_767e1_level0_row19\" class=\"row_heading level0 row19\" >ZVI02</th>\n",
       "      <th id=\"T_767e1_level1_row19\" class=\"row_heading level1 row19\" >7</th>\n",
       "      <th id=\"T_767e1_level2_row19\" class=\"row_heading level2 row19\" >2021</th>\n",
       "      <td id=\"T_767e1_row19_col0\" class=\"data row19 col0\" >30</td>\n",
       "      <td id=\"T_767e1_row19_col1\" class=\"data row19 col1\" >34</td>\n",
       "    </tr>\n",
       "  </tbody>\n",
       "</table>\n"
      ],
      "text/plain": [
       "<pandas.io.formats.style.Styler at 0x7fc844bd45e0>"
      ]
     },
     "execution_count": 47,
     "metadata": {},
     "output_type": "execute_result"
    }
   ],
   "source": [
    "eval_df_monthly[-20:].style.background_gradient(cmap='summer')"
   ]
  },
  {
   "cell_type": "code",
   "execution_count": 48,
   "id": "a70341dd-3d5b-4461-9485-f2da092a80eb",
   "metadata": {},
   "outputs": [
    {
     "data": {
      "text/plain": [
       "3         1926.0\n",
       "3693      1276.0\n",
       "9224      2184.0\n",
       "13319     1825.0\n",
       "17173     2555.0\n",
       "           ...  \n",
       "858594    4790.0\n",
       "865915    4512.0\n",
       "867728    1339.0\n",
       "871025    3815.0\n",
       "872683    1821.0\n",
       "Name: Stock Demand, Length: 198, dtype: float64"
      ]
     },
     "execution_count": 48,
     "metadata": {},
     "output_type": "execute_result"
    }
   ],
   "source": [
    "df[df['Product ID'] =='011ER']['Stock Demand']"
   ]
  },
  {
   "cell_type": "code",
   "execution_count": 49,
   "id": "88640a34-ceb7-4b20-b8a4-cb56f0dd8b3c",
   "metadata": {},
   "outputs": [
    {
     "data": {
      "text/plain": [
       "Text(0.5, 1.0, 'Prediction for 011ER next month Demand')"
      ]
     },
     "execution_count": 49,
     "metadata": {},
     "output_type": "execute_result"
    },
    {
     "data": {
      "image/png": "[encoded data removed]",
      "text/plain": [
       "<Figure size 1152x360 with 1 Axes>"
      ]
     },
     "metadata": {
      "needs_background": "light"
     },
     "output_type": "display_data"
    }
   ],
   "source": [
    "train[train['Product ID'] =='011ER']['Stock Demand'].plot(figsize=(16,5))\n",
    "evalua[evalua['Product ID'] =='011ER']['pred'].plot(figsize=(16,5))\n",
    "#evalua[evalua['Product ID'] =='011ER']['Stock Demand'].plot(figsize=(16,5))\n",
    "plt.legend()\n",
    "plt.title('Prediction for 011ER next month Demand')"
   ]
  },
  {
   "cell_type": "code",
   "execution_count": 50,
   "id": "90d2207d-d3b0-4e14-bdc4-e62c45596f4f",
   "metadata": {
    "tags": []
   },
   "outputs": [
    {
     "data": {
      "text/plain": [
       "0.2067375940667806"
      ]
     },
     "execution_count": 50,
     "metadata": {},
     "output_type": "execute_result"
    }
   ],
   "source": [
    "r2_score(y_test,pred)"
   ]
  },
  {
   "cell_type": "code",
   "execution_count": 51,
   "id": "ece8ccea-6670-40f3-8b30-18fb5d084248",
   "metadata": {},
   "outputs": [
    {
     "data": {
      "text/plain": [
       "74489.68197358475"
      ]
     },
     "execution_count": 51,
     "metadata": {},
     "output_type": "execute_result"
    }
   ],
   "source": [
    "mean_squared_error(y_test,pred)"
   ]
  },
  {
   "cell_type": "markdown",
   "id": "5165c50e-6f13-456f-8b02-367c458c4df9",
   "metadata": {},
   "source": [
    "**Evaluation**\n",
    "we would evaluate our model using the Mean absolute percentage error"
   ]
  },
  {
   "cell_type": "code",
   "execution_count": 52,
   "id": "7daf9124-f8a7-49ea-9145-c8a596e0df32",
   "metadata": {},
   "outputs": [],
   "source": [
    "eval_df_monthly_stock = eval_df_monthly.reset_index()['Stock Demand']\n",
    "eval_df_monthly_pred = eval_df_monthly.reset_index()['pred']"
   ]
  },
  {
   "cell_type": "code",
   "execution_count": 53,
   "id": "e1c4d8ae-a814-4cb8-b604-0e6688e1c948",
   "metadata": {},
   "outputs": [
    {
     "data": {
      "text/plain": [
       "0.6102089932376675"
      ]
     },
     "execution_count": 53,
     "metadata": {},
     "output_type": "execute_result"
    }
   ],
   "source": [
    "mean_absolute_percentage_error(eval_df_monthly_stock,eval_df_monthly_pred)"
   ]
  },
  {
   "cell_type": "code",
   "execution_count": 54,
   "id": "549c1b89-3299-4941-9bea-49af9e48f401",
   "metadata": {},
   "outputs": [
    {
     "data": {
      "text/plain": [
       "Text(0.5, 1.0, 'monthly forecast of products for august 2021')"
      ]
     },
     "execution_count": 54,
     "metadata": {},
     "output_type": "execute_result"
    },
    {
     "data": {
      "image/png": "[encoded data removed]",
      "text/plain": [
       "<Figure size 1152x648 with 1 Axes>"
      ]
     },
     "metadata": {
      "needs_background": "light"
     },
     "output_type": "display_data"
    }
   ],
   "source": [
    "eval_df_monthly[:150].plot(figsize=(16,9))\n",
    "plt.title(\"monthly forecast of products for august 2021\")"
   ]
  },
  {
   "cell_type": "code",
   "execution_count": 55,
   "id": "49fbc6c8-ff93-44fa-a379-8bc194e66e46",
   "metadata": {},
   "outputs": [
    {
     "data": {
      "text/plain": [
       "Text(0.5, 1.0, 'monthly forecast of products for august 2021')"
      ]
     },
     "execution_count": 55,
     "metadata": {},
     "output_type": "execute_result"
    },
    {
     "data": {
      "image/png": "[encoded data removed]",
      "text/plain": [
       "<Figure size 1152x648 with 1 Axes>"
      ]
     },
     "metadata": {
      "needs_background": "light"
     },
     "output_type": "display_data"
    }
   ],
   "source": [
    "eval_df_monthly[-100:].plot(figsize=(16,9));\n",
    "plt.title(\"monthly forecast of products for august 2021\")"
   ]
  },
  {
   "cell_type": "code",
   "execution_count": null,
   "id": "d0d002d9-aba1-4f9a-9571-6d205e097895",
   "metadata": {},
   "outputs": [],
   "source": []
  },
  {
   "cell_type": "markdown",
   "id": "394b07b8-6c07-4d5d-9596-ae4236819f6f",
   "metadata": {},
   "source": [
    "#### How will i build a pipeline for deployment ?"
   ]
  },
  {
   "cell_type": "markdown",
   "id": "d64fc27d-00d9-48f0-9520-09522b71f3fa",
   "metadata": {},
   "source": [
    "To build a pipeline to predict future month; we will build two pipelines. one for processing our unseen data and the other for predicting.\n",
    "<br>\n",
    "\n",
    "**new Data Processing Data Pipeline**\n",
    "<br>\n",
    "the first pipeline will process the unseen data. it will take the training's data record which it has stored somewhere and get the rolling mean and lag features for the unseen data.\n",
    "<br>\n",
    "after we have gotten this features to predict the days span which we inputed, it will then take ths data and feed it to our predicting pipeline that will fit it to the model transforming stage and predicting stage.\n",
    "\n",
    "**Transforming and Prediction Pipeline**\n",
    "<br>\n",
    "this pipeline will basically take the data generated from the preprocessing pipeline and encode and scale it and feed it to the predictor model and give us and output."
   ]
  }
 ],
 "metadata": {
  "kernelspec": {
   "display_name": "default:Python",
   "language": "python",
   "name": "conda-env-default-py"
  },
  "language_info": {
   "codemirror_mode": {
    "name": "ipython",
    "version": 3
   },
   "file_extension": ".py",
   "mimetype": "text/x-python",
   "name": "python",
   "nbconvert_exporter": "python",
   "pygments_lexer": "ipython3",
   "version": "3.9.13"
  }
 },
 "nbformat": 4,
 "nbformat_minor": 5
}
